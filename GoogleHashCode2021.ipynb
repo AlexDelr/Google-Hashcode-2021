{
 "cells": [
  {
   "cell_type": "markdown",
   "metadata": {
    "id": "CUu8O6h9b3Xr"
   },
   "source": [
    "# Google Hash Code 2021\n"
   ]
  },
  {
   "cell_type": "markdown",
   "metadata": {},
   "source": [
    "### Author: Alex Delruelle\n",
    "\n",
    "\n",
    "## Cases:\n",
    "\n",
    "      Case | Duration  | #Intersections | #Streets |  #Cars  | #Bonus Points\n",
    "      ----------------------------------------------------------------------\n",
    "    \n",
    "         A |       6   |          4     |       5  |      2  |       1000\n",
    "       \n",
    "         B |    5070   |       7073     |    9102  |   1000  |       1000\n",
    "       \n",
    "         C |    1640   |      10000     |   35030  |   1000  |        100\n",
    "       \n",
    "         D |    8071   |       8000     |   95928  |   1000  |       1000\n",
    "       \n",
    "         E |     676   |        500     |     998  |   1000  |        500\n",
    "       \n",
    "         F |    1992   |       1662     |   10000  |   1000  |        500\n",
    "       \n",
    "    Kaggle |    7071   |       8000     |   63968  |   1000  |       1000\n",
    "   "
   ]
  },
  {
   "cell_type": "markdown",
   "metadata": {},
   "source": [
    "Google Colab:\n",
    "\n",
    "   See: https://www.kaggle.com/general/74235\n",
    "   \n",
    "   - Activate internet\n",
    "   - +Add Data (from competition data sets)\n",
    "   \n",
    "   ! pip install google-colab\n",
    "   \n",
    "   import os\n",
    "   print(os.listdir(\"../input/hashcode-2021-oqr-extension\"))\n",
    "   \n",
    "   Simulation(\"../input/hashcode-2021-oqr-extension/hashcode.in\")"
   ]
  },
  {
   "cell_type": "markdown",
   "metadata": {},
   "source": [
    "## Code"
   ]
  },
  {
   "cell_type": "markdown",
   "metadata": {},
   "source": [
    "### Base datastructures"
   ]
  },
  {
   "cell_type": "code",
   "execution_count": 1,
   "metadata": {},
   "outputs": [],
   "source": [
    "class TrafficLight:\n",
    "    #\n",
    "    \n",
    "    def __init__(self):\n",
    "        self.Green = False\n",
    "        self.CarQueue = []       # queue of cars waiting at the traffic light\n",
    "        self.CarQueueNew = []    # temporary buffer to keep new situation after update\n",
    "        self.LongestQ = 0        # Keep track how long the queue becomes during the simulation\n",
    "        \n",
    "    def SetGreen(self):\n",
    "        self.Green = True\n",
    "        \n",
    "    def SetRed(self):\n",
    "        self.Green = False\n",
    "        \n",
    "    def HasGreen(self):\n",
    "        # Does this street vave green light on this intersection?\n",
    "        return(self.Green)\n",
    "    \n",
    "    def AddCar(self, Car):\n",
    "        # Add a car at the end of the CarQueue.\n",
    "        #print(\"Added Car: \", Car.ID)\n",
    "        self.CarQueueNew.append(Car)\n",
    "        self.LongestQ = max(self.LongestQ, len(self.CarQueueNew))\n",
    "        \n",
    "    def FifoPopCar(self):\n",
    "        # Remove the first car in the CarQueue and return the popped value.\n",
    "        #print(\"before POP: \", self.CarQueue[0].ID)\n",
    "        if self.CarQueue:\n",
    "            #print(self.CarQueueNew[0].ID)\n",
    "            return(self.CarQueueNew.pop(0))\n",
    "        else:\n",
    "            return(None)\n",
    "    \n",
    "    def FirstCar(self):\n",
    "        # First car in the Queue\n",
    "        if self.CarQueue: # check if there is a car in the queue\n",
    "            return(self.CarQueue[0])\n",
    "        else:\n",
    "            return(None)\n",
    "        \n",
    "    def CarInQueue(self, Car):\n",
    "        # Is Car in the Queue ?\n",
    "        return(Car in self.CarQueue)\n",
    "    \n",
    "    def QueueLength(self):\n",
    "        # Return the number of cars in the Queue at the traffic light\n",
    "        return(len(self.CarQueue))\n",
    "            \n",
    "    def Queue(self):\n",
    "        # Return cars waiting in the queue at the traffic light at this moment in a string\n",
    "        carlist = \"\"\n",
    "        for c in self.CarQueue:\n",
    "            carlist += str(c.ID) + \", \"\n",
    "        return(carlist)\n",
    "    \n",
    "    def SyncQueueAfter(self):\n",
    "        # Update new situation\n",
    "        #self.CarQueue = self.CarQueueNew.copy()\n",
    "        self.CarQueue = self.CarQueueNew[:]\n",
    "        #print(\"CarQueue \", self.CarQueue)\n",
    "        \n",
    "    def DisplayQueue(self):\n",
    "        # Show cars waiting in the queue at the traffic light at this moment\n",
    "        carlist = \"\"\n",
    "        for c in self.CarQueue:\n",
    "            carlist += str(c.ID) + \", \"\n",
    "        print( \"Cars in Queue : \", carlist)\n",
    "    \n",
    "    def Reset(self):\n",
    "        # Re-initialise\n",
    "        self.__init__()\n"
   ]
  },
  {
   "cell_type": "code",
   "execution_count": 2,
   "metadata": {},
   "outputs": [],
   "source": [
    "class Street:\n",
    "    # Each street is unidirectional, with a traffic light at the end.\n",
    "    # Each street begins at an intersection and ends at another intersection\n",
    "    # At the traffic light a queue of cars is waiting for green light.\n",
    "    \n",
    "    def __init__(self, Name, Begin, End, Length):\n",
    "        self.Name = Name                   # name of the street\n",
    "        self.Begin = Begin                 # intersection at the begin of the street\n",
    "        self.End = End                     # intersection at the end of the street\n",
    "        self.Length = Length               # lenght of the street, expressed in clockticks to traverse\n",
    "        self.StopLight = TrafficLight()    # Traffic light at the end of the street\n",
    "        self.NbrCars = 0                   # Nbr of cars that have this street on their route\n",
    "        \n",
    "    def Reset(self):\n",
    "        # Re-initialise       \n",
    "        self.StopLight.Reset()\n"
   ]
  },
  {
   "cell_type": "code",
   "execution_count": 3,
   "metadata": {},
   "outputs": [],
   "source": [
    "class Schedule:\n",
    "    # Sequence(list) of tuples (list = (Street, #Clock ticks) ) of subsequent green light.\n",
    "    # Each street at the intersection can appear only once per schedule.\n",
    "    # The schedule is repeated continously till the end of the simulation.\n",
    "    \n",
    "    def __init__(self):\n",
    "        self.Schedule = []    # list of tuplelists\n",
    "        self.Complete = False # becomes True when all streets in the intersection have been added\n",
    "        self.Pointer = [0,0]  # index in Schedule. First index indicates Schedule tuple, 2nd time in that street\n",
    "        self.PreviousSchedule = []\n",
    "        \n",
    "    def UpdateSchedule(self, street, streetList):\n",
    "        # Creation of the schedule\n",
    "        # If street is already green, add 1 clock tick to tuple, otherwise add new tuple in list\n",
    "        # Called after calling ScheduleComplete(), so building up schedule is not yet finished\n",
    "        \n",
    "        if self.Schedule:\n",
    "            if self.Schedule[-1][0] == street: # already has green, extend schedule\n",
    "                self.Schedule[-1][1] += 1\n",
    "            else:\n",
    "                self.Schedule.append([street,1])\n",
    "        else:\n",
    "            # not yet initialised - add first tuple\n",
    "            self.Schedule.append([street,1])\n",
    "        \n",
    "        # Check if Schedule is complete:\n",
    "        Flag = True\n",
    "        for s in streetlist:\n",
    "            Flag = Flag and StreetInSchedule(s)\n",
    "        self.Complete = Flag\n",
    "        if self.Complete:\n",
    "            self.Pointer[0] = len(self.Schedule)   # now at last street in Schedule\n",
    "            self.Pointer[1] = self.Schedule[-1][1] # at last moment in Schedule\n",
    "        \n",
    "            \n",
    "    def ScheduleList(self):\n",
    "        # Return the traffic light schedule from the beginning till this moment in native format.\n",
    "        return(self.Schedule)\n",
    "\n",
    "       \n",
    "    def ScheduleComplete(self):\n",
    "        return(self.Complete)\n",
    "\n",
    "\n",
    "    def CurrentStreet(self):\n",
    "        # Current Street in schedule at this moment\n",
    "        if self.Schedule:\n",
    "            if self.ScheduleComplete():\n",
    "                if self.Pointer[1] < self.Schedule[self.Pointer[0]][1]: # still time to spend on current street\n",
    "                    self.Pointer[1] += 1\n",
    "                else:\n",
    "                    if self.Pointer[0] < (len(self.Schedule) - 1):\n",
    "                        self.Pointer[0] += 1  # move to next tuple in schedule                       \n",
    "                    else:\n",
    "                        self.Pointer[0] = 0 # start again at begin of Schedule\n",
    "                    self.Pointer[1] = 1\n",
    "                return(self.Schedule[self.Pointer[0]][0])\n",
    "            else:\n",
    "                return(self.Schedule[-1][0])\n",
    "        else:\n",
    "            return(None)\n",
    "\n",
    "        \n",
    "    def StreetInSchedule(self, street):\n",
    "        # Verify if street is already in the schedule list.\n",
    "        Flag = False\n",
    "        for t in self.Schedule:\n",
    "            if t[0] == street:\n",
    "                Flag = True\n",
    "                break\n",
    "        \n",
    "        return(Flag)\n",
    "\n",
    "            \n",
    "    def ShowSchedule(self):\n",
    "        # Return the traffic light schedule from the beginning till this moment in string format.\n",
    "                \n",
    "        out = \": [\"\n",
    "        for s in self.Schedule:\n",
    "            out += \"(\" + s[0].Name + \", \" + str(s[1]) + \"),\"\n",
    "        out += \"]\"\n",
    "        return(out)\n",
    "    \n",
    "    def KeepOldSchedule(self):\n",
    "        # In subsequent tries keep previous schedule\n",
    "        self.PreviousSchedule = self.Schedule[:]\n",
    "        \n",
    "    def KeepBestSchedule(self):\n",
    "        # Called when previous schedule has a better score than last schedule\n",
    "        self.Schedule = self.PreviousSchedule[:]\n",
    "        \n",
    "    def EqualSchedules(self):\n",
    "        # return True is the Schedule and PreviousSchedule are identical else False\n",
    "        Flag = True\n",
    "        for i in range(len(self.Schedule)):\n",
    "            Flag &= self.Schedule[i][0] == self.PreviousSchedule[i][0]\n",
    "            Flag &= self.Schedule[i][1] == self.PreviousSchedule[i][1]\n",
    "            \n",
    "        return(Flag)\n",
    "\n",
    "    \n",
    "    def Reset(self):\n",
    "        # Re-initialise\n",
    "        #self.__init__()\n",
    "        self.Pointer = [0,0]\n"
   ]
  },
  {
   "cell_type": "code",
   "execution_count": 4,
   "metadata": {},
   "outputs": [
    {
     "name": "stdout",
     "output_type": "stream",
     "text": [
      "[1, 2, 3, 4, 5]\n",
      "[1, 2, 3, 4, 5, 11]\n"
     ]
    }
   ],
   "source": [
    "list1 = [1, 2, 3, 4, 5]\n",
    "list2 = [6, 7, 8, 9, 10]\n",
    "list3 = list1\n",
    "print(list3)\n",
    "list1.append(11)\n",
    "print(list3)"
   ]
  },
  {
   "cell_type": "code",
   "execution_count": 5,
   "metadata": {},
   "outputs": [
    {
     "name": "stdout",
     "output_type": "stream",
     "text": [
      "[1, 2, 3, 4, 5]\n",
      "[1, 2, 3, 4, 5]\n"
     ]
    }
   ],
   "source": [
    "list1 = [1, 2, 3, 4, 5]\n",
    "list2 = [6, 7, 8, 9, 10]\n",
    "list3 = list1[:]\n",
    "print(list3)\n",
    "list1.append(11)\n",
    "print(list3)"
   ]
  },
  {
   "cell_type": "code",
   "execution_count": 6,
   "metadata": {},
   "outputs": [
    {
     "name": "stdout",
     "output_type": "stream",
     "text": [
      "[1, 2, 3, 4, 5, 11]\n",
      "[1, 2, 3, 4, 5, 11]\n"
     ]
    }
   ],
   "source": [
    "list2 = list1[:]\n",
    "print(list2)\n",
    "list1.append(11)\n",
    "print(list2)"
   ]
  },
  {
   "cell_type": "code",
   "execution_count": 4,
   "metadata": {},
   "outputs": [],
   "source": [
    "class Intersection:\n",
    "    # Crossing of multiple roads\n",
    "    # Several unidirectional roads can give access to an intersection.\n",
    "    # At any given time (clock tick) only one road can have access (green light) to the intersection.\n",
    "    \n",
    "    def __init__(self, ID):\n",
    "        self.ID = ID                    # ID number of the intersection\n",
    "        self.StreetList = []            # All the streets with access to the intersection\n",
    "        self.TimeTable = Schedule()     # list of tuples/lists (Street, #Clock ticks) of subsequent green light.\n",
    "                                        # If the list is empty, no roadlight ever got green\n",
    "        \n",
    "        # Intersection street selection Methods Names: \n",
    "        self.LongestQueue = 1 \n",
    "        self.FastestCar = 2\n",
    "        self.Combined = 3\n",
    "        self.Ratio = 4\n",
    "                  \n",
    "    def AddStreet(self, street):\n",
    "        # StreetList construction\n",
    "        self.StreetList.append(street)\n",
    "        \n",
    "    def AllStreets(self):\n",
    "        # return list with all streets giving way on intersection\n",
    "        return(self.StreetList)\n",
    "    \n",
    "    def Update(self, street):\n",
    "        # make sure street has green, other streets on the intersection have red and update schedule\n",
    "\n",
    "        street.StopLight.SetGreen()\n",
    "        # Make sure other Stoplights are on red:\n",
    "        #print(type(self.StreetList), \": \", self.StreetList)\n",
    "        for s in self.StreetList:\n",
    "            #print(type(s), \": \", s)\n",
    "            if s != street:\n",
    "                s.StopLight.SetRed()\n",
    "            \n",
    "    def DisplayIntersection(self):\n",
    "        # Show the traffic light schedule from the beginning till this moment in string format.                \n",
    "        print(str(self.ID), \": \", self.TimeTable.ShowSchedule())\n",
    "\n",
    "\n",
    "    def GreenOnOneStreet(self, Method):   \n",
    "        # From the streets at an intersection select one along Method and put green light on.\n",
    "        # Currently only local optimalisation is supported\n",
    "        #\n",
    "        # In all cases, if there is only one street giving in on the intersection,\n",
    "        # it's Traffic Light is put on green for the entire duration of the simulation.\n",
    "        #\n",
    "        # Method: from all streets giving in on the intersection, select:\n",
    "        #  LongestQueue: always the one with the longest car queue \n",
    "        #  FastestCar: always the one in which the first car is closest to its destination\n",
    "        #  Combined: a combination of the previous, i.e. for the last choice, pick LongestQueue, the ones before,\n",
    "        #            FastestCar. Combined is only used when going for the restriction/limitation in\n",
    "        #            the Google Hash Code 2021 Problem Statement, i.e. : \n",
    "        #                      \"And each street name can only be listed once per schedule.\"\n",
    "\n",
    "        def SelectLongestQueue(StreetList):\n",
    "            # return street with longest queue\n",
    "            \n",
    "            Choices = []\n",
    "            for street in StreetList:\n",
    "                     Choices.append(street.StopLight.QueueLength())\n",
    "            Longest = np.argmax(Choices)\n",
    "            #if len(Longest) > 1: # multiple longest Queues, select the one with FirstCar closest to destination\n",
    "                # these may be all zero:\n",
    "            #    if Longest[0] == 0: # all streets have an empty queue\n",
    "            #        s = StreetList[Longest[0]]\n",
    "            #    else:\n",
    "            #        Cars = []\n",
    "            #        for i in Longest:\n",
    "            #            Cars.append(StreetList[i].StopLight.FirstCar().TimeToDestination())\n",
    "            #            First = np.argmin(Cars)\n",
    "            #            s = StreetList[Longest[First[0]]]                        \n",
    "            #else:\n",
    "            #    s = StreetList[Longest[0]]\n",
    "            if StreetList[Longest]:\n",
    "                s = StreetList[Longest] # There is a street with a queue\n",
    "            else:\n",
    "                s = None # no street has a queue\n",
    "            \n",
    "            return(s)\n",
    "        \n",
    "        def SelectFirstCar(StreetList):\n",
    "            # return street with Car closest to destination\n",
    "            \n",
    "            Flag = False\n",
    "            Choices = []            \n",
    "            for street in StreetList:\n",
    "                #print(street.Name)\n",
    "                #street.StopLight.DisplayQueue()\n",
    "                if street.StopLight.QueueLength(): # Check if there is a queue: no queue, no cars\n",
    "                    Choices.append(street.StopLight.FirstCar().TimeToDestination())\n",
    "                    Flag = True\n",
    "                else:\n",
    "                    Choices.append(np.nan)\n",
    "            if Flag: # at least 1 found\n",
    "                First = np.nanargmin(Choices) # returns only the first index\n",
    "                s = StreetList[First]\n",
    "                #print(s.Name)\n",
    "            else:\n",
    "                s = None\n",
    "                #print(\"None Found\")\n",
    "            #if len(First) > 1: # multiple First cars, select the one with longest queue behind it\n",
    "                    # these may be all zero:\n",
    "                    #if First[0] == 0: # all streets have an empty queue\n",
    "                        #s = StreetList[Longest[0]]\n",
    "                    #else:\n",
    "                        #Queues = []\n",
    "                        #for f in First:\n",
    "                             #Queues.append(StreetList[f].StopLight.QueueLength())\n",
    "                        #Longest = np.argmax(Queues)\n",
    "                        #s = StreetList[First[Longest[0]]]                \n",
    "            #else:\n",
    "                #s = StreetList[First[0]]\n",
    "            \n",
    "            \n",
    "            return(s)\n",
    "        \n",
    "        def CheckIfAlreadyInSchedule(street):\n",
    "            return(self.TimeTable.StreetInSchedule(street))\n",
    "        \n",
    "        ListOfStreets = self.AllStreets()\n",
    "        s = None\n",
    "        \n",
    "        # Make sure intersection has a street\n",
    "        if len(ListOfStreets) == 0:\n",
    "            print(\"Intersection \", Crossing.ID, \"has no street\")\n",
    "            sys.exit()\n",
    "        \n",
    "        # For intersections with only 1 street, select that one, and put traffic light on green permanently:\n",
    "        if len(ListOfStreets) == 1:           \n",
    "            s = ListOfStreets[0]\n",
    "        else:            \n",
    "            if Method == self.LongestQueue:\n",
    "                # put the one with the longest queue on green. If longest queues have equal length, take the Fastestcar                   \n",
    "                s = SelectLongestQueue(ListOfStreets)\n",
    "            elif Method == self.FastestCar:\n",
    "                # put the one with the car closest to destination on green. If more than one choice, take longest queue\n",
    "                s = SelectFirstCar(ListOfStreets)\n",
    "            elif Method == self.Combined:\n",
    "                if  self.TimeTable.CurrentStreet():\n",
    "                    # if there is already a street with green, and it has a queue, stay on that one:               \n",
    "                    if  self.TimeTable.CurrentStreet().StopLight.HasGreen() \\\n",
    "                        and self.TimeTable.CurrentStreet().StopLight.QueueLength():\n",
    "                        s = self.TimeTable.CurrentStreet()\n",
    "                    # check if all streets have already been selected, if so, stay on last street:\n",
    "                    elif len(self.TimeTable.ScheduleList()) == len(ListOfStreets):\n",
    "                        s = self.TimeTable.CurrentStreet()\n",
    "                    # only one traffic light switch left, take the one with the longest queue:\n",
    "                    elif len(self.TimeTable.ScheduleList()) == (len(ListOfStreets) - 1):\n",
    "                        s = SelectLongestQueue(ListOfStreets)\n",
    "                        # Check if it was already in the list\n",
    "                        if CheckIfAlreadyInSchedule(s):  # already used, should take 2nd longest queue\n",
    "                            s = SelectFirstCar(ListOfStreets)\n",
    "                            if CheckIfAlreadyInSchedule(s):\n",
    "                                s = None\n",
    "                    else:\n",
    "                        s = SelectFirstCar(ListOfStreets)\n",
    "                        if CheckIfAlreadyInSchedule(s):\n",
    "                            s = SelectLongestQueue(ListOfStreets)\n",
    "                            if CheckIfAlreadyInSchedule(s):\n",
    "                                s = None\n",
    "                        \n",
    "                else: # no street selected yet, take the one with the first car closest to destination\n",
    "                    s = SelectFirstCar(ListOfStreets)\n",
    "                    if CheckIfAlreadyInSchedule(s):\n",
    "                        s = SelectLongestQueue(ListOfStreets)\n",
    "                        if CheckIfAlreadyInSchedule(s):\n",
    "                            s = None\n",
    "            elif Method == self.Ratio:\n",
    "                # Schedules are already set:\n",
    "                s = self.TimeTable.CurrentStreet()\n",
    "                \n",
    "        # Adapt Intersection Schedule and Stoplight situation:\n",
    "        #if s:\n",
    "        #    self.Update(s)\n",
    "\n",
    "        return(s)\n",
    "\n",
    "            \n",
    "    def Reset(self):\n",
    "        # Re-initialise\n",
    "        self.TimeTable.Reset()\n",
    "       "
   ]
  },
  {
   "cell_type": "code",
   "execution_count": 8,
   "metadata": {},
   "outputs": [
    {
     "name": "stdout",
     "output_type": "stream",
     "text": [
      "1\n",
      "2\n",
      "3\n",
      "4\n"
     ]
    }
   ],
   "source": [
    "ll = [0,1,2,3,4]\n",
    "current = 0\n",
    "for s in range(current+1, len(ll)):\n",
    "   print(s)"
   ]
  },
  {
   "cell_type": "code",
   "execution_count": 5,
   "metadata": {},
   "outputs": [],
   "source": [
    "class Route:\n",
    "    # Sequence of streets and position in that sequence.\n",
    "    \n",
    "    def __init__(self, RouteList):\n",
    "        self.StreetList = RouteList    # List of streets\n",
    "        self.RoutePosition = [0,1]     # Position in the route. 1st coordinate is the index in the route list, i.e. in \n",
    "                                       # which street is the car. 2nd coordinate is the position in the street, counting\n",
    "                                       # down, i.e. full lenght if at begin of the street, 1 if at the traffic light.\n",
    "                                       # The initial position of a car in the first street is at the end.\n",
    "    def AtTrafficLight(self):\n",
    "        return(self.RoutePosition[1] == 1)\n",
    "    \n",
    "    def LastStreetInRoute(self):\n",
    "        return((self.RoutePosition[0]+1) == (len(self.StreetList)))\n",
    "    \n",
    "    def AtEndOfRoute(self):\n",
    "        return( self.LastStreetInRoute() and self.AtTrafficLight() )    \n",
    "    \n",
    "    def CurrentStreet(self):\n",
    "        return(self.StreetList[self.RoutePosition[0]])\n",
    "        \n",
    "    def NextStreet(self):\n",
    "        if self.LastStreetInRoute(): # Current street is last in route\n",
    "            return(None)\n",
    "        else:\n",
    "            return(self.StreetList[self.RoutePosition[0]+1])\n",
    "        \n",
    "    def PositionInCurrentStreet(self):\n",
    "        return(self.RoutePosition[1])\n",
    "        \n",
    "    def Remainder(self):\n",
    "        # Remaining distance in route\n",
    "        Count = 0\n",
    "        if self.LastStreetInRoute():\n",
    "            Count = self.RoutePosition[1] - 1 # remainder of last street\n",
    "        else:\n",
    "            Count = self.RoutePosition[1] - 1 # remainder of current street\n",
    "            # loop through rest of the route\n",
    "            for i in range(self.RoutePosition[0] + 1, len(self.StreetList)):\n",
    "                Count += self.StreetList[i].Length\n",
    "                \n",
    "        return(Count)\n",
    "                   \n",
    "    def Move1(self):\n",
    "        # Advance one position in Route\n",
    "        if not self.AtEndOfRoute():\n",
    "            if self.AtTrafficLight():\n",
    "                self.RoutePosition[0] += 1\n",
    "                self.RoutePosition[1] = self.StreetList[self.RoutePosition[0]].Length  # Count down from Length to 1\n",
    "            else: \n",
    "                # Continue on current street\n",
    "                self.RoutePosition[1] -= 1\n",
    "            \n",
    "    def Reset(self):\n",
    "        # Re-initialise\n",
    "        self.RoutePosition = [0,1]\n"
   ]
  },
  {
   "cell_type": "code",
   "execution_count": 6,
   "metadata": {},
   "outputs": [],
   "source": [
    "class Car:\n",
    "    # Properties of a car\n",
    "    # A car can have 3 statuses: \"on a road\" or \"on a road, in a queue before a traffic light\" or \"arrived at destination\"\n",
    "    # When \"arrived at destination\", The RoutePosition is put on -1 and the ArrivalTime is > 0.\n",
    "    \n",
    "    def __init__(self, ID, RouteList):\n",
    "        self.ID = ID                    # Car ID\n",
    "        self.Path = Route(RouteList)    # Route object\n",
    "        self.ArrivalTime = 0            # Clocktick at which the car arrives at destination, 0 indicates not yet arrived\n",
    "        self.History = []               # Progress record: subsequent streets + time spend on that street.\n",
    "        \n",
    "    def NewPosition(self, time):\n",
    "        # If at destination: store ArrivalTime; else advance one position.\n",
    "        \n",
    "        def CheckEndOf(car):\n",
    "            if car.Path.AtEndOfRoute():                \n",
    "                #print(\"Car \", car.ID, \"has arrived at end of route\")\n",
    "                car.ArrivalTime = time\n",
    "            elif car.Path.AtTrafficLight():\n",
    "                car.Path.CurrentStreet().StopLight.AddCar(car)\n",
    "        \n",
    "        if self.Path.AtTrafficLight(): # did already reach the traffic light in the previous clocktick\n",
    "            if self.Path.CurrentStreet().StopLight.HasGreen():\n",
    "                if self == self.Path.CurrentStreet().StopLight.FirstCar(): # is the first in the queue\n",
    "                    Car = self.Path.CurrentStreet().StopLight.FifoPopCar() # remove car from Queue\n",
    "                    if Car != self:                                                   # <=== shorten this\n",
    "                        print(\"Wrong car popped from list. Should be: \", self.ID)\n",
    "                        if Car:\n",
    "                            print(\"is:\", Car.ID)\n",
    "                        else:\n",
    "                            print(\"is: None\") \n",
    "                    self.Path.Move1()\n",
    "                    CheckEndOf(self)\n",
    "        else:\n",
    "            self.Path.Move1()\n",
    "            CheckEndOf(self)\n",
    "        \n",
    "        self.AddHistory(self.Path.CurrentStreet())\n",
    "    \n",
    "        return(None)\n",
    "           \n",
    "    def TimeToDestination(self):\n",
    "        # Fastest possible time to the cars destination, i.e. with all traffic lights on its route on green.\n",
    "        if self.ArrivalTime:\n",
    "            Count = 0\n",
    "        else:\n",
    "            Count = self.Path.Remainder()\n",
    "           \n",
    "        return(Count)\n",
    "            \n",
    "    def Arrived(self):\n",
    "        # if already arrived at destination returns Arrival moment, else returns 0.\n",
    "        return(self.ArrivalTime)\n",
    "\n",
    "    def DisplayCar(self):\n",
    "        # Show status of car at this moment:\n",
    "        if (self.ArrivalTime):\n",
    "            print(self.ID, \" : Arrived at: \", self.ArrivalTime)\n",
    "        else:            \n",
    "            print(self.ID, \" : Minimal time remaining = \", self.TimeToDestination(), \", Position (\", \\\n",
    "               self.Path.PositionInCurrentStreet(), \") in \", self.Path.CurrentStreet().Name)       \n",
    "        for l in range(len(self.History)):\n",
    "            print(\"\\t[\", self.History[l][0].Name, \":\", self.History[l][1], \"s]\")\n",
    "    \n",
    "    def AddHistory(self, street):\n",
    "        # add 1 second to the Car's History in street\n",
    "        if self.History[-1][0] == street: \n",
    "            self.History[-1][1] += 1   # if still in the same street, increase 1\n",
    "        else:\n",
    "            self.History.append([street, 1]) # add a new street\n",
    "    \n",
    "    def Reset(self):\n",
    "        # Re-initialise\n",
    "        self.Path.Reset()\n",
    "        self.Path.CurrentStreet().StopLight.AddCar(self)\n",
    "        self.ArrivalTime = 0\n",
    "        h = self.History[0][0]\n",
    "        self.History = []\n",
    "        self.History.append([h, 1])\n",
    "          "
   ]
  },
  {
   "cell_type": "code",
   "execution_count": 7,
   "metadata": {},
   "outputs": [],
   "source": [
    "class Clock:\n",
    "    # Clock used to coordinate the simulation\n",
    "    # Actually a chronometer, starts at 0, ticks till Duration is reached.\n",
    "    \n",
    "    def __init__(self, Duration):\n",
    "        self.Duration = Duration        # total duration of the simulation in clock ticks\n",
    "        self.TimeNow = 0                # clock time, i.e. the time at current simulation tick\n",
    "        \n",
    "    def Tick(self):\n",
    "        # As long as the chronometer is still ticking, return True\n",
    "        self.TimeNow += 1\n",
    "        return(self.TimeNow <= self.Duration)\n",
    "        \n",
    "    def Now(self):\n",
    "        # The time at this moment\n",
    "        return(self.TimeNow)\n",
    "    \n",
    "    def Reset(self):\n",
    "        # Re-initialise\n",
    "        self.TimeNow = 0"
   ]
  },
  {
   "cell_type": "markdown",
   "metadata": {},
   "source": [
    "### I/O routines"
   ]
  },
  {
   "cell_type": "code",
   "execution_count": 8,
   "metadata": {},
   "outputs": [],
   "source": [
    "def ReadInputFile(FileName):\n",
    "    # Read input\n",
    "    \n",
    "    Streets = []\n",
    "    Cars = []\n",
    "    \n",
    "    with open(FileName, \"r\") as file:\n",
    "        lines = file.readlines()\n",
    "        D, I, S, V, F = lines[0].strip().split(\" \")\n",
    "        \n",
    "        for n in range(1, int(S) + 1):\n",
    "            Streets.append(lines[n].replace(\"\\n\", \"\").split(\" \"))\n",
    "        for n in range(int(S) + 1, int(S) + 1 + int(V)):\n",
    "            Cars.append(lines[n].replace(\"\\n\", \"\").split(\" \"))\n",
    "            \n",
    "    return(D, I, S, V, F, Streets, Cars)"
   ]
  },
  {
   "cell_type": "code",
   "execution_count": 9,
   "metadata": {},
   "outputs": [],
   "source": [
    "def PrintInputFile(D, I, S, V, F, Streets, Cars):\n",
    "    # Show all input parameters.\n",
    "            \n",
    "    print(f\"Duration = {D} s, {I} intersections, {S} streets, {V} cars, {F} bonus points\\n\")\n",
    "    \n",
    "    print(\"Streets :\\n\")\n",
    "    for n in range(len(Streets)):\n",
    "        print(f\"B = {Streets[n][0]}, E = {Streets[n][1]}, {Streets[n][2]}, time needed = {Streets[n][3]}\\n\")\n",
    "    \n",
    "    print(\"Cars :\\n\")\n",
    "    for n in range(len(Cars)):\n",
    "        print(f\"P (number of streets to travel) = {Cars[n][0]}: {Cars[n][1:]}\\n\" )\n",
    "    \n",
    "    return(None)"
   ]
  },
  {
   "cell_type": "code",
   "execution_count": 10,
   "metadata": {},
   "outputs": [],
   "source": [
    "def PrintSubmission(IntersectionList, FileName = None):\n",
    "    # File format required for the Google Hash code 2021 submission\n",
    "    # If FileName given, will to write to that file, otherwise on screen display.\n",
    "    #\n",
    "    # A : ( 0 ≤ A ≤ I ) the number of intersections for which you specify the schedule.\n",
    "    # For each intersection\n",
    "    # i : the first line containing a single integer i (0 ≤ i < I ) – the ID of the intersection\n",
    "    # E : list of green lights [street name, T (1 ≤ T ≤ D ) for how long each street will have a green light, ]\n",
    "    \n",
    "    if FileName:\n",
    "        original_stdout = sys.stdout # Save a reference to the original standard output\n",
    "        f = open(FileName, 'w')\n",
    "        sys.stdout = f # Change the standard output to the file we created.\n",
    "        \n",
    "    # A: number of intersections:\n",
    "    Count = 0\n",
    "    for n in IntersectionList:    # loop through all intersections\n",
    "        if n.TimeTable.ScheduleList(): # skip intersection if there is no schedule\n",
    "            Count +=1\n",
    "    print(Count)                                        # A: number of intersections\n",
    " \n",
    "    #for n in range(len(IntersectionList) ):    # loop through all intersections\n",
    "        #print(IntersectionList[n].ID)                  # i: intersection ID\n",
    "        #print(len(IntersectionList[n].StreetList))     # E(i): number of streets for this instersection\n",
    "        #for s in IntersectionList[n].StreetList:       # schedule =\n",
    "        #    print(s[0].Name, \" \", s[1])                # list of subsequent (StreetName, duration) green light \n",
    "                                                        # for this intersection\n",
    "    for n in IntersectionList:    # loop through all intersections\n",
    "        if n.TimeTable.ScheduleList(): # skip intersection if there is no schedule\n",
    "            print(n.ID)                  # i: intersection ID\n",
    "            print(len(n.TimeTable.ScheduleList()))     # E(i): number of streets for this intersection\n",
    "            for s in n.TimeTable.ScheduleList():\n",
    "                print(f\"{s[0].Name} {s[1]}\")\n",
    "        \n",
    "    if FileName:\n",
    "            sys.stdout = original_stdout # Reset the standard output to its original value\n",
    "            \n",
    "    return(None)"
   ]
  },
  {
   "cell_type": "markdown",
   "metadata": {},
   "source": [
    "SimE.Intersections[1].TimeTable.ScheduleList()[0]"
   ]
  },
  {
   "cell_type": "markdown",
   "metadata": {},
   "source": [
    "### Simulation routines"
   ]
  },
  {
   "cell_type": "code",
   "execution_count": 2,
   "metadata": {},
   "outputs": [
    {
     "name": "stdout",
     "output_type": "stream",
     "text": [
      "3\n"
     ]
    }
   ],
   "source": [
    "import math\n",
    "A = [12, 24, 27, 30, 36]\n",
    "print(math.gcd(*A))"
   ]
  },
  {
   "cell_type": "code",
   "execution_count": 11,
   "metadata": {},
   "outputs": [],
   "source": [
    "import math\n",
    "\n",
    "def listGCD(NumberList):\n",
    "    # Calculate the GCD of a list, 2 or more numbers.\n",
    "\n",
    "    result = NumberList[0]\n",
    "    for i in NumberList[1:]:\n",
    "        result = math.gcd(result, i)\n",
    "        \n",
    "    return(result)"
   ]
  },
  {
   "cell_type": "code",
   "execution_count": 3,
   "metadata": {},
   "outputs": [
    {
     "name": "stdout",
     "output_type": "stream",
     "text": [
      "3\n"
     ]
    }
   ],
   "source": [
    "print(listGCD(A))"
   ]
  },
  {
   "cell_type": "code",
   "execution_count": 12,
   "metadata": {},
   "outputs": [],
   "source": [
    "def TransformFractions(FractionList):\n",
    "    # Convert a list of decimal fractions into a list of integers and normalize using greatest common divisor\n",
    "    \n",
    "    fraction = 0.1\n",
    "    m = len(FractionList)\n",
    "    Flag = True\n",
    "    while Flag:        \n",
    "        for i in range(m):\n",
    "            if FractionList[i] < fraction:\n",
    "                fraction /= 10\n",
    "                break\n",
    "        Flag = False\n",
    "    # All Fractions are larger than fraction\n",
    "    NewFractionList = []\n",
    "    for i in range(m):\n",
    "        NewFractionList.append(round(FractionList[i]/fraction))\n",
    "    # Normalize to smallest numbers by dividing by GCD\n",
    "    #GCD = math.gcd(*NewFractionList) # works only in python 3.9, not yet available on google colab\n",
    "    GCD = listGCD(NewFractionList)\n",
    "    if GCD > 0:\n",
    "        NewFractionList = [int(x/GCD) for x in NewFractionList]\n",
    "    \n",
    "    return(NewFractionList)        "
   ]
  },
  {
   "cell_type": "code",
   "execution_count": 17,
   "metadata": {},
   "outputs": [
    {
     "data": {
      "text/plain": [
       "[22, 7, 33, 56]"
      ]
     },
     "execution_count": 17,
     "metadata": {},
     "output_type": "execute_result"
    }
   ],
   "source": [
    "TransformFractions([0.222, 0.07, 0.33333, 0.5555])"
   ]
  },
  {
   "cell_type": "code",
   "execution_count": 18,
   "metadata": {},
   "outputs": [
    {
     "data": {
      "text/plain": [
       "[56, 33, 22, 7]"
      ]
     },
     "execution_count": 18,
     "metadata": {},
     "output_type": "execute_result"
    }
   ],
   "source": [
    "l = TransformFractions([0.222, 0.07, 0.33333, 0.5555])\n",
    "l.sort(reverse=True)\n",
    "l"
   ]
  },
  {
   "cell_type": "code",
   "execution_count": 19,
   "metadata": {},
   "outputs": [
    {
     "data": {
      "text/plain": [
       "[30, 1, 11, 20]"
      ]
     },
     "execution_count": 19,
     "metadata": {},
     "output_type": "execute_result"
    }
   ],
   "source": [
    "TransformFractions([0.9, 0.03, 0.33333, 0.6])"
   ]
  },
  {
   "cell_type": "code",
   "execution_count": 20,
   "metadata": {
    "scrolled": true
   },
   "outputs": [
    {
     "data": {
      "text/plain": [
       "[1, 1]"
      ]
     },
     "execution_count": 20,
     "metadata": {},
     "output_type": "execute_result"
    }
   ],
   "source": [
    "TransformFractions([0.5, 0.5])"
   ]
  },
  {
   "cell_type": "code",
   "execution_count": 13,
   "metadata": {},
   "outputs": [],
   "source": [
    "def Sort2ListsInSync(List1, List2):\n",
    "    # Sort List1 and List2 based on List2\n",
    "   \n",
    "    # initializing blank dictionary\n",
    "    Dict = {} \n",
    "     \n",
    "    # initializing blank list\n",
    "    l1 = []\n",
    "    l2 = []\n",
    "     \n",
    "    # Addition of two list in one dictionary\n",
    "    Dict = {List1[i]: List2[i] for i in range(len(List2))} \n",
    "     \n",
    "    # sorting of dictionary based on value\n",
    "    sDict = {k: v for k, v in sorted(Dict.items(), reverse=True, key=lambda item: item[1])}\n",
    "     \n",
    "    # Element addition in the list\n",
    "    for k,v in sDict.items():\n",
    "        l1.append(k)\n",
    "        l2.append(v)        \n",
    "    \n",
    "    return(l1, l2)"
   ]
  },
  {
   "cell_type": "code",
   "execution_count": 22,
   "metadata": {},
   "outputs": [
    {
     "data": {
      "text/plain": [
       "(['f', 'g', 'b', 'c', 'e', 'i', 'a', 'd', 'h'], [2, 2, 1, 1, 1, 1, 0, 0, 0])"
      ]
     },
     "execution_count": 22,
     "metadata": {},
     "output_type": "execute_result"
    }
   ],
   "source": [
    "list1 = [\"a\", \"b\", \"c\", \"d\", \"e\", \"f\", \"g\", \"h\", \"i\"]\n",
    "list2 = [ 0,   1,   1,    0,   1,   2,   2,   0,   1]\n",
    "Sort2ListsInSync(list1,list2)"
   ]
  },
  {
   "cell_type": "code",
   "execution_count": 39,
   "metadata": {},
   "outputs": [
    {
     "name": "stdout",
     "output_type": "stream",
     "text": [
      "Done Something\n",
      "2.501817464828491 seconds wall time\n"
     ]
    }
   ],
   "source": [
    "import time\n",
    "\n",
    "def procedure():\n",
    "    time.sleep(2.5)\n",
    "    print(\"Done Something\")\n",
    "\n",
    "# measure process time\n",
    "#t0 = time.time()()\n",
    "#procedure()\n",
    "#print (time.time()(), \"seconds process time\")\n",
    "\n",
    "# measure wall time\n",
    "t0 = time.time()\n",
    "procedure()\n",
    "print (time.time() - t0, \"seconds wall time\")"
   ]
  },
  {
   "cell_type": "code",
   "execution_count": 14,
   "metadata": {},
   "outputs": [],
   "source": [
    "import numpy as np\n",
    "import sys\n",
    "import time\n",
    "\n",
    "MaxRunTime = 32400  # in seconds  =  CPU Notebook <= 9 hours run-time\n",
    "\n",
    "class Simulation:\n",
    "    # A simlation is determined by a duration in time, a set of streets, a set of intersections and a number of cars.\n",
    "    # The result is calculate via a score function using a fixed and a variable bonus depending on remaining time. \n",
    "    \n",
    "    def __init__(self, InputFile):\n",
    "        \n",
    "        # Get Input        \n",
    "        self.D, self.I, self.S, self.V, self.F, self.StreetList, self.CarList = ReadInputFile(InputFile)\n",
    "\n",
    "        # Constants:\n",
    "        \n",
    "        # Set Bonus Value:\n",
    "        self.Bonus = int(self.F)   \n",
    "        \n",
    "        # Variables:\n",
    "   \n",
    "        self.Timer = Clock(int(self.D)) # Create a Timer\n",
    "        self.Intersections = []         # List of Intersections\n",
    "        self.Streets = {}               # Dictionary of Streets\n",
    "        self.Cars = []                  # List of Cars\n",
    "        self.ScoreList = []\n",
    "        \n",
    "        # Create the list of Intersections (at this point we only know how many intersections):\n",
    "        for i in range(int(self.I)):\n",
    "            self.Intersections.append(Intersection(i))\n",
    "\n",
    "        # Create a dictionary of Streets and update Intersections:\n",
    "        for s in range(int(self.S)):\n",
    "            self.Streets[self.StreetList[s][2]] = Street(self.StreetList[s][2], \\\n",
    "                                                         int(self.StreetList[s][0]), int(self.StreetList[s][1]), \\\n",
    "                                                         int(self.StreetList[s][3]))\n",
    "            self.Intersections[int(self.StreetList[s][1])].AddStreet(self.Streets[self.StreetList[s][2]])\n",
    "        \n",
    "        # Create a list of Cars and update StreetQueues:\n",
    "        for c in range(int(self.V)):\n",
    "            # Convert route streetnamelist into StreetObjectList:\n",
    "            StreetObjList = []\n",
    "            for s in self.CarList[c][1:]:\n",
    "                StreetObjList.append(self.Streets[s])\n",
    "                self.Streets[s].NbrCars += 1\n",
    "            # now the Cars list:\n",
    "            self.Cars.append(Car(c, StreetObjList))\n",
    "            self.Streets[self.CarList[c][1]].StopLight.AddCar(self.Cars[c]) # initial position of every car is at the traffic light of the first street in it's route.\n",
    "            self.Cars[c].History.append([StreetObjList[0], 0]) # First street in the Car's history, Put at 0, because at traffic light at the start.\n",
    "            \n",
    "        # Sync all traffic lights:\n",
    "        for s,st in self.Streets.items():\n",
    "            st.StopLight.SyncQueueAfter()\n",
    "            \n",
    "        # Initialise intersection schedule based on traffic ratios, longest queue and Car closest to destination:        \n",
    "        self.InitialiseSchedules()\n",
    "        \n",
    "\n",
    "    def Score(self):\n",
    "        # \"Cost\" function. Calculate total score at the end of the simulation\n",
    "    \n",
    "        score = 0    \n",
    "        for c in self.Cars:\n",
    "            if c.Arrived():\n",
    "                score += self.Bonus       # add bonus\n",
    "                score += self.Timer.Duration - c.Arrived()   # one point for each second left when the car finished its route.                \n",
    "        return(score)\n",
    "    \n",
    "    def NbrCarsArrived(self):\n",
    "        # How many cars have arrived at this moment?\n",
    "        \n",
    "        Count = 0\n",
    "        for car in self.Cars:\n",
    "            if car.Arrived():\n",
    "                Count += 1\n",
    "        return(Count)\n",
    "\n",
    "    def DisplayIntersections(self):\n",
    "        # Show the intersections:\n",
    "        \n",
    "        print(\"\\nIntersection Schedules :\\n------------------------\")\n",
    "        for i in self.Intersections:\n",
    "            i.DisplayIntersection()\n",
    "    \n",
    "    def Display(self):\n",
    "        # Show a snapshot of the simulation at this moment.\n",
    "    \n",
    "        # The streets:\n",
    "        print(\"\\nStreets - Cars in Traffic Light Queue :\\n---------------------------------------\")\n",
    "        for s, v in self.Streets.items():\n",
    "            if v.StopLight.HasGreen():\n",
    "                Color = 'Green'\n",
    "            else:\n",
    "                Color = 'Red'\n",
    "            print(s + \": \" + Color + \": \" + v.StopLight.Queue())\n",
    "    \n",
    "        # The cars:\n",
    "        print(self.NbrCarsArrived(), \"cars out of\", len(self.Cars), \"have arrived.\")\n",
    "        print(\"\\nCars :\\n------\")\n",
    "        for c in self.Cars:\n",
    "            c.DisplayCar()\n",
    "\n",
    "    def RunSimulation(self, FileName = None, Log = False):\n",
    "        # Execute all steps in the simulaton\n",
    "        # If FileName given, will write a log to that file, otherwise on-screen display.\n",
    "        # Simulaton logs quickly become very bulky, e.g. case E generates 117Mb of text.\n",
    "        # Jupyter Notebooks doesn't handle bulky output well. Beter write it in a file and consult via a text editor.\n",
    "        #\n",
    "        # Traffic light queues:\n",
    "        # As the checking happens in a serial mode, we have to work with a before and after list.\n",
    "        # If we work with one list and remove a car, when we check a following car it could be that it is first in list\n",
    "        # because the original first car was removed. Only one car per tick is allowed to move forward at a Traffic Light.\n",
    "        \n",
    "    \n",
    "        if FileName:\n",
    "            original_stdout = sys.stdout # Save a reference to the original standard output\n",
    "            f = open(FileName, 'w')\n",
    "            sys.stdout = f # Change the standard output to the file we created.\n",
    "        \n",
    "        if Log:\n",
    "                PrintInputFile(self.D, self.I, self.S, self.V, self.F, self.StreetList, self.CarList)\n",
    "                \n",
    "        # start chronometer:\n",
    "        StartTime = time.time()\n",
    "        \n",
    "        FullCycleCount = 0\n",
    "        while True:\n",
    "            # check chronometer:\n",
    "            if (time.time() - StartTime) > MaxRunTime:\n",
    "                break\n",
    "            \n",
    "            # Re-initialise for re-run:\n",
    "            self.Reset()\n",
    "            \n",
    "            FullCycleCount += 1\n",
    "                    \n",
    "            if Log:      \n",
    "                print(\"\\nFullCycle\", FullCycleCount, \"\\n=============\\nInitial situation :\\n===================\")\n",
    "                self.DisplayIntersections()\n",
    "                self.Display() # initial situation\n",
    "    \n",
    "            while self.Timer.Tick():\n",
    "                if Log:\n",
    "                    print(\"\\nClockTick: \", self.Timer.Now(), \"\\n==========\")\n",
    "\n",
    "                # On all intersections put 1 traffic light on green\n",
    "                for i in self.Intersections:\n",
    "                    street = i.GreenOnOneStreet(i.Ratio)\n",
    "                    i.Update(street)\n",
    "    \n",
    "                # Process cars at green light and cars on the move in a street:\n",
    "                for car in self.Cars:\n",
    "                    if not car.Arrived():\n",
    "                        car.NewPosition(self.Timer.Now())\n",
    "                    #if car.Arrived(): # no need to do anything with an already arrived car\n",
    "                        #print(\"Car \", car.ID, \" has arrived\")\n",
    "                    \n",
    "                # Now sync all traffic lights:\n",
    "                for s,st in self.Streets.items():\n",
    "                    st.StopLight.SyncQueueAfter()\n",
    "                    \n",
    "                if Log:\n",
    "                    self.Display() # situation after ClockTick\n",
    "                    \n",
    "            self.ScoreList.append(self.Score())\n",
    "            print(\"\\nIntermediate Score = \", self.Score(), \"\\n==========\")\n",
    "            if len(self.ScoreList) > 1:\n",
    "                if self.ScoreList[-1] <= self.ScoreList[-2]: # last score is worse then or equal to previous score\n",
    "                    self.KeepBestSchedules() # restore previous schedule\n",
    "                    print(\"Final Score 1= \", self.ScoreList[-2])                     \n",
    "                    break\n",
    "                elif not self.OptimiseSchedules():\n",
    "                    print(\"Final Score 2= \", self.ScoreList[-1]) \n",
    "                    break # if no optimization done, quit.                      \n",
    "            else:\n",
    "                if not self.OptimiseSchedules():\n",
    "                    print(\"Final Score 3= \", self.ScoreList[-1]) \n",
    "                    break # if no optimization done, quit.  \n",
    "            \n",
    "        if FileName:\n",
    "            sys.stdout = original_stdout # Reset the standard output to its original value\n",
    "\n",
    "        return(None)\n",
    "\n",
    "    def InitialiseSchedules(self):\n",
    "        # Called only during initialisation of the simulation\n",
    "        # \n",
    "                        \n",
    "        for i in reversed(self.Intersections): # do it backwards to allow removing intersections while processing list\n",
    "            if len(i.StreetList) == 1: # if only one street giving in on intersection, put green for entire duration\n",
    "                i.TimeTable.Schedule.append([ i.StreetList[0], self.Timer.Duration ])\n",
    "                #print(i.ID, i.TimeTable.Schedule)\n",
    "            else: # more than 1 street giving in on the intersection\n",
    "                # Calculate ratio's per intersection and set schedule:\n",
    "                Total = 0\n",
    "                for street in i.StreetList:\n",
    "                    Total += street.NbrCars\n",
    "                if Total == 0:\n",
    "                    print(\"Intersection\", i.ID, \"is never used by a car\")\n",
    "                    # remove intersection from the Intersection list\n",
    "                    self.Intersections.remove(i)\n",
    "                else:\n",
    "                    FractionList = []\n",
    "                    for street in i.StreetList:\n",
    "                        FractionList.append(street.NbrCars/Total)\n",
    "                    ScheduleList = TransformFractions(FractionList)\n",
    "                    # Rearange to prioritise the streets expecting the most cars, i.e. the longest time first:\n",
    "                    #tl = ScheduleList.sort(reverse=True) # sort from longest to smallest time                \n",
    "                    sl, tl = Sort2ListsInSync(i.StreetList, ScheduleList)\n",
    "                    #print(tl, sl)\n",
    "                    # Rearange subsequent streets with same duration, to favour First car closest to destination\n",
    "                    for m in range(1, len(tl)):\n",
    "                        if tl[m] == tl[m-1]:\n",
    "                            a = sl[m-1].StopLight.FirstCar()\n",
    "                            b = sl[m].StopLight.FirstCar()\n",
    "                            if a and b: # there are 2 cars\n",
    "                                if b.TimeToDestination() < a.TimeToDestination():\n",
    "                                    # reverse order\n",
    "                                    h = sl[m]\n",
    "                                    sl[m] = sl[m-1]\n",
    "                                    sl[m-1] = h\n",
    "                            elif a or b:\n",
    "                                if b: # a is empty, b goes first\n",
    "                                    h = sl[m]\n",
    "                                    sl[m] = sl[m-1]\n",
    "                                    sl[m-1] = h\n",
    "                            # else there is no a nor b - do nothing\n",
    "                    # Create schedule:\n",
    "                    Count = 0\n",
    "                    for street in sl:\n",
    "                        i.TimeTable.Schedule.append([ street, tl[Count] ])\n",
    "                        Count += 1\n",
    "                    \n",
    "            i.TimeTable.Complete = True # Schedule is already set\n",
    "            \n",
    "        return(None)\n",
    "    \n",
    "    \n",
    "    def OptimiseSchedules(self):\n",
    "        # Compare and adjust the schedules to the longest queues in the streets.\n",
    "        # Return True if an optimization attempt is made, False if the schedules remain the same\n",
    "        \n",
    "        # Keep record of previous schedule\n",
    "        for i in self.Intersections:\n",
    "            i.TimeTable.KeepOldSchedule()\n",
    "        \n",
    "        for i in self.Intersections:\n",
    "            if not len(i.TimeTable.Schedule) == 1:\n",
    "                NotChanged = True\n",
    "                for t in i.TimeTable.Schedule:\n",
    "                    #if LongestQ is larger or smaller than the time set for the street, adjust the time\n",
    "                    if not(t[0].StopLight.LongestQ == t[1]):                  \n",
    "                        t[1] = t[0].StopLight.LongestQ\n",
    "                        NotChanged = False\n",
    "                if NotChanged:\n",
    "                    print(\"Intersection \", i.ID, \"No changes due to Queue length\")\n",
    "                    # try interchanging the order in the schedule\n",
    "                    NewSchedule = []\n",
    "                    NewSchedule.append(i.TimeTable.Schedule[-1])\n",
    "                    NewSchedule[1:] = i.TimeTable.Schedule[:-1]\n",
    "                    i.TimeTable.Schedule = NewSchedule[:]\n",
    "                    \n",
    "        # Check for changes in the schedules:\n",
    "        Equal = True\n",
    "        for i in self.Intersections:       \n",
    "            if len(i.TimeTable.Schedule) > 1:\n",
    "                Equal = Equal and i.TimeTable.EqualSchedules()\n",
    "        \n",
    "        if (Equal):\n",
    "            print(\"No changes to schedule\")\n",
    "        \n",
    "        return(not Equal)\n",
    "\n",
    "\n",
    "    def KeepBestSchedules(self):\n",
    "        # Restore previous schedules.\n",
    "        \n",
    "        for i in self.Intersections:\n",
    "            i.TimeTable.KeepBestSchedule()\n",
    "        print('In KeepBestSchedules')\n",
    "        return(None)\n",
    "\n",
    "\n",
    "    def Reset(self):\n",
    "        # Reinitialise data structures for a re-run\n",
    "        self.Timer.Reset()\n",
    "        \n",
    "        for i in self.Intersections:\n",
    "            i.Reset()\n",
    "        \n",
    "        for s in self.Streets.items():\n",
    "            s[1].Reset()\n",
    "            \n",
    "        for c in self.Cars:\n",
    "            c.Reset()\n",
    "            \n",
    "        for s,st in self.Streets.items():\n",
    "            st.StopLight.SyncQueueAfter()\n",
    "            #print(st.Name, st.StopLight.CarQueue, st.StopLight.CarQueueNew)\n",
    "            \n",
    "        \n"
   ]
  },
  {
   "cell_type": "code",
   "execution_count": 25,
   "metadata": {},
   "outputs": [
    {
     "name": "stdout",
     "output_type": "stream",
     "text": [
      "[3, 1, 2]\n"
     ]
    }
   ],
   "source": [
    "list1 = [1,2,3]\n",
    "list2 =[]\n",
    "list2.append(list1[-1])\n",
    "list2[1:] = list1[:-1]\n",
    "print(list2)"
   ]
  },
  {
   "cell_type": "code",
   "execution_count": 26,
   "metadata": {},
   "outputs": [
    {
     "name": "stdout",
     "output_type": "stream",
     "text": [
      "[3, 2]\n"
     ]
    }
   ],
   "source": [
    "for i in list2:\n",
    "    if i == 1:\n",
    "        list2.pop(i)\n",
    "print(list2)        "
   ]
  },
  {
   "cell_type": "markdown",
   "metadata": {},
   "source": [
    "## Perform Simulations"
   ]
  },
  {
   "cell_type": "markdown",
   "metadata": {},
   "source": [
    "### Case A"
   ]
  },
  {
   "cell_type": "markdown",
   "metadata": {},
   "source": [
    "#### Read Input"
   ]
  },
  {
   "cell_type": "code",
   "execution_count": 27,
   "metadata": {
    "scrolled": false
   },
   "outputs": [],
   "source": [
    "D, I, S, V, F, StreetList, CarList = ReadInputFile(\"a.txt\")"
   ]
  },
  {
   "cell_type": "code",
   "execution_count": 28,
   "metadata": {
    "scrolled": false
   },
   "outputs": [
    {
     "name": "stdout",
     "output_type": "stream",
     "text": [
      "Duration = 6 s, 4 intersections, 5 streets, 2 cars, 1000 bonus points\n",
      "\n",
      "Streets :\n",
      "\n",
      "B = 2, E = 0, rue-de-londres, time needed = 1\n",
      "\n",
      "B = 0, E = 1, rue-d-amsterdam, time needed = 1\n",
      "\n",
      "B = 3, E = 1, rue-d-athenes, time needed = 1\n",
      "\n",
      "B = 2, E = 3, rue-de-rome, time needed = 2\n",
      "\n",
      "B = 1, E = 2, rue-de-moscou, time needed = 3\n",
      "\n",
      "Cars :\n",
      "\n",
      "P (number of streets to travel) = 4: ['rue-de-londres', 'rue-d-amsterdam', 'rue-de-moscou', 'rue-de-rome']\n",
      "\n",
      "P (number of streets to travel) = 3: ['rue-d-athenes', 'rue-de-moscou', 'rue-de-londres']\n",
      "\n"
     ]
    }
   ],
   "source": [
    "PrintInputFile(D, I, S, V, F, StreetList, CarList)"
   ]
  },
  {
   "cell_type": "markdown",
   "metadata": {},
   "source": [
    "#### Simulation"
   ]
  },
  {
   "cell_type": "code",
   "execution_count": 29,
   "metadata": {},
   "outputs": [],
   "source": [
    "list1 = [\"c\", \"b\", \"d\", \"a\"]\n",
    "\n",
    "list2 = [2, 3, 1, 4]\n",
    "\n",
    "\n",
    "zipped_lists = zip(list1, list2)\n",
    "\n",
    "sorted_pairs = sorted(zipped_lists)\n",
    "\n",
    "\n",
    "tuples = zip(*sorted_pairs)\n",
    "\n",
    "list1, list2 = [ list(tuple) for tuple in  tuples]"
   ]
  },
  {
   "cell_type": "code",
   "execution_count": 30,
   "metadata": {},
   "outputs": [
    {
     "data": {
      "text/plain": [
       "['a', 'b', 'c', 'd']"
      ]
     },
     "execution_count": 30,
     "metadata": {},
     "output_type": "execute_result"
    }
   ],
   "source": [
    "list1"
   ]
  },
  {
   "cell_type": "code",
   "execution_count": 31,
   "metadata": {},
   "outputs": [
    {
     "data": {
      "text/plain": [
       "[4, 3, 2, 1]"
      ]
     },
     "execution_count": 31,
     "metadata": {},
     "output_type": "execute_result"
    }
   ],
   "source": [
    "list2"
   ]
  },
  {
   "cell_type": "code",
   "execution_count": 32,
   "metadata": {},
   "outputs": [
    {
     "data": {
      "text/plain": [
       "<zip at 0x7f5aec41cfc0>"
      ]
     },
     "execution_count": 32,
     "metadata": {},
     "output_type": "execute_result"
    }
   ],
   "source": [
    "tuples"
   ]
  },
  {
   "cell_type": "code",
   "execution_count": 33,
   "metadata": {},
   "outputs": [
    {
     "data": {
      "text/plain": [
       "<zip at 0x7f5aec421b00>"
      ]
     },
     "execution_count": 33,
     "metadata": {},
     "output_type": "execute_result"
    }
   ],
   "source": [
    "l1 = [3, 2, 4, 1, 1]\n",
    "l2 = ['three', 'two', 'four', 'one', 'second one']\n",
    "l = zip(*sorted(zip(l1, l2)))\n",
    "l"
   ]
  },
  {
   "cell_type": "code",
   "execution_count": 34,
   "metadata": {
    "scrolled": true
   },
   "outputs": [
    {
     "name": "stdout",
     "output_type": "stream",
     "text": [
      "[['4', 'rue-de-londres', 'rue-d-amsterdam', 'rue-de-moscou', 'rue-de-rome'], ['3', 'rue-d-athenes', 'rue-de-moscou', 'rue-de-londres']]\n"
     ]
    }
   ],
   "source": [
    "print(CarList)"
   ]
  },
  {
   "cell_type": "code",
   "execution_count": 15,
   "metadata": {},
   "outputs": [],
   "source": [
    "SimA1 = Simulation(\"a.txt\")"
   ]
  },
  {
   "cell_type": "code",
   "execution_count": 16,
   "metadata": {},
   "outputs": [],
   "source": [
    "SimA1.InitialiseSchedules()"
   ]
  },
  {
   "cell_type": "code",
   "execution_count": 17,
   "metadata": {
    "scrolled": false
   },
   "outputs": [
    {
     "name": "stdout",
     "output_type": "stream",
     "text": [
      "Duration = 6 s, 4 intersections, 5 streets, 2 cars, 1000 bonus points\n",
      "\n",
      "Streets :\n",
      "\n",
      "B = 2, E = 0, rue-de-londres, time needed = 1\n",
      "\n",
      "B = 0, E = 1, rue-d-amsterdam, time needed = 1\n",
      "\n",
      "B = 3, E = 1, rue-d-athenes, time needed = 1\n",
      "\n",
      "B = 2, E = 3, rue-de-rome, time needed = 2\n",
      "\n",
      "B = 1, E = 2, rue-de-moscou, time needed = 3\n",
      "\n",
      "Cars :\n",
      "\n",
      "P (number of streets to travel) = 4: ['rue-de-londres', 'rue-d-amsterdam', 'rue-de-moscou', 'rue-de-rome']\n",
      "\n",
      "P (number of streets to travel) = 3: ['rue-d-athenes', 'rue-de-moscou', 'rue-de-londres']\n",
      "\n",
      "\n",
      "FullCycle 1 \n",
      "=============\n",
      "Initial situation :\n",
      "===================\n",
      "\n",
      "Intersection Schedules :\n",
      "------------------------\n",
      "0 :  : [(rue-de-londres, 6),]\n",
      "1 :  : [(rue-d-athenes, 1),(rue-d-amsterdam, 1),]\n",
      "2 :  : [(rue-de-moscou, 6),]\n",
      "3 :  : [(rue-de-rome, 6),]\n",
      "\n",
      "Streets - Cars in Traffic Light Queue :\n",
      "---------------------------------------\n",
      "rue-de-londres: Red: 0, \n",
      "rue-d-amsterdam: Red: \n",
      "rue-d-athenes: Red: 1, \n",
      "rue-de-rome: Red: \n",
      "rue-de-moscou: Red: \n",
      "0 cars out of 2 have arrived.\n",
      "\n",
      "Cars :\n",
      "------\n",
      "0  : Minimal time remaining =  6 , Position ( 1 ) in  rue-de-londres\n",
      "\t[ rue-de-londres : 1 s]\n",
      "1  : Minimal time remaining =  4 , Position ( 1 ) in  rue-d-athenes\n",
      "\t[ rue-d-athenes : 1 s]\n",
      "\n",
      "ClockTick:  1 \n",
      "==========\n",
      "\n",
      "Streets - Cars in Traffic Light Queue :\n",
      "---------------------------------------\n",
      "rue-de-londres: Green: \n",
      "rue-d-amsterdam: Red: 0, \n",
      "rue-d-athenes: Green: \n",
      "rue-de-rome: Green: \n",
      "rue-de-moscou: Green: \n",
      "0 cars out of 2 have arrived.\n",
      "\n",
      "Cars :\n",
      "------\n",
      "0  : Minimal time remaining =  5 , Position ( 1 ) in  rue-d-amsterdam\n",
      "\t[ rue-de-londres : 1 s]\n",
      "\t[ rue-d-amsterdam : 1 s]\n",
      "1  : Minimal time remaining =  3 , Position ( 3 ) in  rue-de-moscou\n",
      "\t[ rue-d-athenes : 1 s]\n",
      "\t[ rue-de-moscou : 1 s]\n",
      "\n",
      "ClockTick:  2 \n",
      "==========\n",
      "\n",
      "Streets - Cars in Traffic Light Queue :\n",
      "---------------------------------------\n",
      "rue-de-londres: Green: \n",
      "rue-d-amsterdam: Green: \n",
      "rue-d-athenes: Red: \n",
      "rue-de-rome: Green: \n",
      "rue-de-moscou: Green: \n",
      "0 cars out of 2 have arrived.\n",
      "\n",
      "Cars :\n",
      "------\n",
      "0  : Minimal time remaining =  4 , Position ( 3 ) in  rue-de-moscou\n",
      "\t[ rue-de-londres : 1 s]\n",
      "\t[ rue-d-amsterdam : 1 s]\n",
      "\t[ rue-de-moscou : 1 s]\n",
      "1  : Minimal time remaining =  2 , Position ( 2 ) in  rue-de-moscou\n",
      "\t[ rue-d-athenes : 1 s]\n",
      "\t[ rue-de-moscou : 2 s]\n",
      "\n",
      "ClockTick:  3 \n",
      "==========\n",
      "\n",
      "Streets - Cars in Traffic Light Queue :\n",
      "---------------------------------------\n",
      "rue-de-londres: Green: \n",
      "rue-d-amsterdam: Red: \n",
      "rue-d-athenes: Green: \n",
      "rue-de-rome: Green: \n",
      "rue-de-moscou: Green: 1, \n",
      "0 cars out of 2 have arrived.\n",
      "\n",
      "Cars :\n",
      "------\n",
      "0  : Minimal time remaining =  3 , Position ( 2 ) in  rue-de-moscou\n",
      "\t[ rue-de-londres : 1 s]\n",
      "\t[ rue-d-amsterdam : 1 s]\n",
      "\t[ rue-de-moscou : 2 s]\n",
      "1  : Minimal time remaining =  1 , Position ( 1 ) in  rue-de-moscou\n",
      "\t[ rue-d-athenes : 1 s]\n",
      "\t[ rue-de-moscou : 3 s]\n",
      "\n",
      "ClockTick:  4 \n",
      "==========\n",
      "\n",
      "Streets - Cars in Traffic Light Queue :\n",
      "---------------------------------------\n",
      "rue-de-londres: Green: \n",
      "rue-d-amsterdam: Green: \n",
      "rue-d-athenes: Red: \n",
      "rue-de-rome: Green: \n",
      "rue-de-moscou: Green: 0, \n",
      "1 cars out of 2 have arrived.\n",
      "\n",
      "Cars :\n",
      "------\n",
      "0  : Minimal time remaining =  2 , Position ( 1 ) in  rue-de-moscou\n",
      "\t[ rue-de-londres : 1 s]\n",
      "\t[ rue-d-amsterdam : 1 s]\n",
      "\t[ rue-de-moscou : 3 s]\n",
      "1  : Arrived at:  4\n",
      "\t[ rue-d-athenes : 1 s]\n",
      "\t[ rue-de-moscou : 3 s]\n",
      "\t[ rue-de-londres : 1 s]\n",
      "\n",
      "ClockTick:  5 \n",
      "==========\n",
      "\n",
      "Streets - Cars in Traffic Light Queue :\n",
      "---------------------------------------\n",
      "rue-de-londres: Green: \n",
      "rue-d-amsterdam: Red: \n",
      "rue-d-athenes: Green: \n",
      "rue-de-rome: Green: \n",
      "rue-de-moscou: Green: \n",
      "1 cars out of 2 have arrived.\n",
      "\n",
      "Cars :\n",
      "------\n",
      "0  : Minimal time remaining =  1 , Position ( 2 ) in  rue-de-rome\n",
      "\t[ rue-de-londres : 1 s]\n",
      "\t[ rue-d-amsterdam : 1 s]\n",
      "\t[ rue-de-moscou : 3 s]\n",
      "\t[ rue-de-rome : 1 s]\n",
      "1  : Arrived at:  4\n",
      "\t[ rue-d-athenes : 1 s]\n",
      "\t[ rue-de-moscou : 3 s]\n",
      "\t[ rue-de-londres : 1 s]\n",
      "\n",
      "ClockTick:  6 \n",
      "==========\n",
      "\n",
      "Streets - Cars in Traffic Light Queue :\n",
      "---------------------------------------\n",
      "rue-de-londres: Green: \n",
      "rue-d-amsterdam: Green: \n",
      "rue-d-athenes: Red: \n",
      "rue-de-rome: Green: \n",
      "rue-de-moscou: Green: \n",
      "2 cars out of 2 have arrived.\n",
      "\n",
      "Cars :\n",
      "------\n",
      "0  : Arrived at:  6\n",
      "\t[ rue-de-londres : 1 s]\n",
      "\t[ rue-d-amsterdam : 1 s]\n",
      "\t[ rue-de-moscou : 3 s]\n",
      "\t[ rue-de-rome : 2 s]\n",
      "1  : Arrived at:  4\n",
      "\t[ rue-d-athenes : 1 s]\n",
      "\t[ rue-de-moscou : 3 s]\n",
      "\t[ rue-de-londres : 1 s]\n",
      "\n",
      "Intermediate Score =  2002 \n",
      "==========\n",
      "Intersection  1 No changes due to Queue length\n",
      "\n",
      "FullCycle 2 \n",
      "=============\n",
      "Initial situation :\n",
      "===================\n",
      "\n",
      "Intersection Schedules :\n",
      "------------------------\n",
      "0 :  : [(rue-de-londres, 6),]\n",
      "1 :  : [(rue-d-amsterdam, 1),(rue-d-athenes, 1),]\n",
      "2 :  : [(rue-de-moscou, 6),]\n",
      "3 :  : [(rue-de-rome, 6),]\n",
      "\n",
      "Streets - Cars in Traffic Light Queue :\n",
      "---------------------------------------\n",
      "rue-de-londres: Red: 0, \n",
      "rue-d-amsterdam: Red: \n",
      "rue-d-athenes: Red: 1, \n",
      "rue-de-rome: Red: \n",
      "rue-de-moscou: Red: \n",
      "0 cars out of 2 have arrived.\n",
      "\n",
      "Cars :\n",
      "------\n",
      "0  : Minimal time remaining =  6 , Position ( 1 ) in  rue-de-londres\n",
      "\t[ rue-de-londres : 1 s]\n",
      "1  : Minimal time remaining =  4 , Position ( 1 ) in  rue-d-athenes\n",
      "\t[ rue-d-athenes : 1 s]\n",
      "\n",
      "ClockTick:  1 \n",
      "==========\n",
      "\n",
      "Streets - Cars in Traffic Light Queue :\n",
      "---------------------------------------\n",
      "rue-de-londres: Green: \n",
      "rue-d-amsterdam: Green: 0, \n",
      "rue-d-athenes: Red: 1, \n",
      "rue-de-rome: Green: \n",
      "rue-de-moscou: Green: \n",
      "0 cars out of 2 have arrived.\n",
      "\n",
      "Cars :\n",
      "------\n",
      "0  : Minimal time remaining =  5 , Position ( 1 ) in  rue-d-amsterdam\n",
      "\t[ rue-de-londres : 1 s]\n",
      "\t[ rue-d-amsterdam : 1 s]\n",
      "1  : Minimal time remaining =  4 , Position ( 1 ) in  rue-d-athenes\n",
      "\t[ rue-d-athenes : 2 s]\n",
      "\n",
      "ClockTick:  2 \n",
      "==========\n",
      "\n",
      "Streets - Cars in Traffic Light Queue :\n",
      "---------------------------------------\n",
      "rue-de-londres: Green: \n",
      "rue-d-amsterdam: Red: 0, \n",
      "rue-d-athenes: Green: \n",
      "rue-de-rome: Green: \n",
      "rue-de-moscou: Green: \n",
      "0 cars out of 2 have arrived.\n",
      "\n",
      "Cars :\n",
      "------\n",
      "0  : Minimal time remaining =  5 , Position ( 1 ) in  rue-d-amsterdam\n",
      "\t[ rue-de-londres : 1 s]\n",
      "\t[ rue-d-amsterdam : 2 s]\n",
      "1  : Minimal time remaining =  3 , Position ( 3 ) in  rue-de-moscou\n",
      "\t[ rue-d-athenes : 2 s]\n",
      "\t[ rue-de-moscou : 1 s]\n",
      "\n",
      "ClockTick:  3 \n",
      "==========\n",
      "\n",
      "Streets - Cars in Traffic Light Queue :\n",
      "---------------------------------------\n",
      "rue-de-londres: Green: \n",
      "rue-d-amsterdam: Green: \n",
      "rue-d-athenes: Red: \n",
      "rue-de-rome: Green: \n",
      "rue-de-moscou: Green: \n",
      "0 cars out of 2 have arrived.\n",
      "\n",
      "Cars :\n",
      "------\n",
      "0  : Minimal time remaining =  4 , Position ( 3 ) in  rue-de-moscou\n",
      "\t[ rue-de-londres : 1 s]\n",
      "\t[ rue-d-amsterdam : 2 s]\n",
      "\t[ rue-de-moscou : 1 s]\n",
      "1  : Minimal time remaining =  2 , Position ( 2 ) in  rue-de-moscou\n",
      "\t[ rue-d-athenes : 2 s]\n",
      "\t[ rue-de-moscou : 2 s]\n",
      "\n",
      "ClockTick:  4 \n",
      "==========\n",
      "\n",
      "Streets - Cars in Traffic Light Queue :\n",
      "---------------------------------------\n",
      "rue-de-londres: Green: \n",
      "rue-d-amsterdam: Red: \n",
      "rue-d-athenes: Green: \n",
      "rue-de-rome: Green: \n",
      "rue-de-moscou: Green: 1, \n",
      "0 cars out of 2 have arrived.\n",
      "\n",
      "Cars :\n",
      "------\n",
      "0  : Minimal time remaining =  3 , Position ( 2 ) in  rue-de-moscou\n",
      "\t[ rue-de-londres : 1 s]\n",
      "\t[ rue-d-amsterdam : 2 s]\n",
      "\t[ rue-de-moscou : 2 s]\n",
      "1  : Minimal time remaining =  1 , Position ( 1 ) in  rue-de-moscou\n",
      "\t[ rue-d-athenes : 2 s]\n",
      "\t[ rue-de-moscou : 3 s]\n",
      "\n",
      "ClockTick:  5 \n",
      "==========\n",
      "\n",
      "Streets - Cars in Traffic Light Queue :\n",
      "---------------------------------------\n",
      "rue-de-londres: Green: \n",
      "rue-d-amsterdam: Green: \n",
      "rue-d-athenes: Red: \n",
      "rue-de-rome: Green: \n",
      "rue-de-moscou: Green: 0, \n",
      "1 cars out of 2 have arrived.\n",
      "\n",
      "Cars :\n",
      "------\n",
      "0  : Minimal time remaining =  2 , Position ( 1 ) in  rue-de-moscou\n",
      "\t[ rue-de-londres : 1 s]\n",
      "\t[ rue-d-amsterdam : 2 s]\n",
      "\t[ rue-de-moscou : 3 s]\n",
      "1  : Arrived at:  5\n",
      "\t[ rue-d-athenes : 2 s]\n",
      "\t[ rue-de-moscou : 3 s]\n",
      "\t[ rue-de-londres : 1 s]\n",
      "\n",
      "ClockTick:  6 \n",
      "==========\n",
      "\n",
      "Streets - Cars in Traffic Light Queue :\n",
      "---------------------------------------\n",
      "rue-de-londres: Green: \n",
      "rue-d-amsterdam: Red: \n",
      "rue-d-athenes: Green: \n",
      "rue-de-rome: Green: \n",
      "rue-de-moscou: Green: \n",
      "1 cars out of 2 have arrived.\n",
      "\n",
      "Cars :\n",
      "------\n",
      "0  : Minimal time remaining =  1 , Position ( 2 ) in  rue-de-rome\n",
      "\t[ rue-de-londres : 1 s]\n",
      "\t[ rue-d-amsterdam : 2 s]\n",
      "\t[ rue-de-moscou : 3 s]\n",
      "\t[ rue-de-rome : 1 s]\n",
      "1  : Arrived at:  5\n",
      "\t[ rue-d-athenes : 2 s]\n",
      "\t[ rue-de-moscou : 3 s]\n",
      "\t[ rue-de-londres : 1 s]\n",
      "\n",
      "Intermediate Score =  1001 \n",
      "==========\n",
      "In KeepBestSchedules\n",
      "Final Score 1=  2002\n"
     ]
    }
   ],
   "source": [
    "SimA1 = Simulation(\"a.txt\")\n",
    "SimA1.RunSimulation(FileName = None, Log=True)"
   ]
  },
  {
   "cell_type": "code",
   "execution_count": null,
   "metadata": {},
   "outputs": [],
   "source": [
    "h = True\n",
    "h &= SimA1.Intersections[1].TimeTable.EqualSchedules()\n",
    "h"
   ]
  },
  {
   "cell_type": "code",
   "execution_count": null,
   "metadata": {},
   "outputs": [],
   "source": [
    "h = False\n",
    "g = True\n",
    "\n",
    "h &= g\n",
    "h"
   ]
  },
  {
   "cell_type": "code",
   "execution_count": null,
   "metadata": {},
   "outputs": [],
   "source": [
    "SimA1.OptimiseSchedules()"
   ]
  },
  {
   "cell_type": "code",
   "execution_count": null,
   "metadata": {},
   "outputs": [],
   "source": [
    "SimA1.ScoreList"
   ]
  },
  {
   "cell_type": "code",
   "execution_count": null,
   "metadata": {},
   "outputs": [],
   "source": [
    "SimA1.Intersections[1].TimeTable.ScheduleList()"
   ]
  },
  {
   "cell_type": "code",
   "execution_count": null,
   "metadata": {},
   "outputs": [],
   "source": [
    "SimA1.Intersections[0].TimeTable.Complete"
   ]
  },
  {
   "cell_type": "code",
   "execution_count": null,
   "metadata": {},
   "outputs": [],
   "source": [
    "SimA1.Intersections[1].StreetList[0].StopLight.LongestQ"
   ]
  },
  {
   "cell_type": "code",
   "execution_count": null,
   "metadata": {},
   "outputs": [],
   "source": [
    "for car in SimA1.Cars:\n",
    "    for street in car.Path.StreetList:\n",
    "        print(street.NbrCars)"
   ]
  },
  {
   "cell_type": "code",
   "execution_count": null,
   "metadata": {},
   "outputs": [],
   "source": [
    "SimA1.Intersections[1].StreetList[1].NbrCars"
   ]
  },
  {
   "cell_type": "code",
   "execution_count": null,
   "metadata": {},
   "outputs": [],
   "source": [
    "SimA1.Intersections[0].TimeTable.Schedule"
   ]
  },
  {
   "cell_type": "code",
   "execution_count": null,
   "metadata": {},
   "outputs": [],
   "source": [
    "if len(SimA1.Intersections[0].StreetList) == 1:\n",
    "    print(True)"
   ]
  },
  {
   "cell_type": "code",
   "execution_count": null,
   "metadata": {},
   "outputs": [],
   "source": [
    "SimA1.Cars[0].DisplayCar()"
   ]
  },
  {
   "cell_type": "code",
   "execution_count": null,
   "metadata": {},
   "outputs": [],
   "source": [
    "SimA1.Cars[0].Arrived()"
   ]
  },
  {
   "cell_type": "code",
   "execution_count": null,
   "metadata": {},
   "outputs": [],
   "source": [
    "SimA1.Cars[1].Path.CurrentStreet().StopLight.CarQueueNew"
   ]
  },
  {
   "cell_type": "code",
   "execution_count": null,
   "metadata": {},
   "outputs": [],
   "source": [
    "SimA1.Cars[1].Path.RoutePosition[0]"
   ]
  },
  {
   "cell_type": "code",
   "execution_count": null,
   "metadata": {},
   "outputs": [],
   "source": [
    "SimA1.Score()"
   ]
  },
  {
   "cell_type": "code",
   "execution_count": null,
   "metadata": {},
   "outputs": [],
   "source": [
    "SimA1.Intersections[1].TimeTable.Schedule[0][0].Name"
   ]
  },
  {
   "cell_type": "code",
   "execution_count": null,
   "metadata": {},
   "outputs": [],
   "source": [
    "SimA1.Intersections[1].TimeTable.KeepBestSchedule()"
   ]
  },
  {
   "cell_type": "code",
   "execution_count": null,
   "metadata": {},
   "outputs": [],
   "source": [
    "PrintSubmission(SimA1.Intersections)"
   ]
  },
  {
   "cell_type": "code",
   "execution_count": null,
   "metadata": {},
   "outputs": [],
   "source": [
    "PrintSubmission(SimA1.Intersections, \"a.sub\")"
   ]
  },
  {
   "cell_type": "code",
   "execution_count": null,
   "metadata": {
    "scrolled": false
   },
   "outputs": [],
   "source": [
    "from timeit import timeit\n",
    "SimA2 = Simulation(\"a.txt\")\n",
    "timeit('SimA2.RunSimulation(\"a.simlog\")', number=1, globals=globals())\n",
    "SimA2.Score()"
   ]
  },
  {
   "cell_type": "code",
   "execution_count": null,
   "metadata": {},
   "outputs": [],
   "source": [
    "SimA2.Streets['rue-de-londres'].StopLight"
   ]
  },
  {
   "cell_type": "code",
   "execution_count": null,
   "metadata": {},
   "outputs": [],
   "source": [
    "print(SimA1.Cars[1].Path.RoutePosition[0])\n",
    "print(len(SimA1.Cars[1].Path.StreetList) -1)"
   ]
  },
  {
   "cell_type": "code",
   "execution_count": null,
   "metadata": {},
   "outputs": [],
   "source": [
    "for c in SimA1.Cars:\n",
    "    print(c.Arrived())"
   ]
  },
  {
   "cell_type": "code",
   "execution_count": null,
   "metadata": {},
   "outputs": [],
   "source": [
    "print(SimA1.Timer.Now())"
   ]
  },
  {
   "cell_type": "markdown",
   "metadata": {},
   "source": [
    "### Case B"
   ]
  },
  {
   "cell_type": "markdown",
   "metadata": {},
   "source": [
    "SimB = Simulation(\"b.txt\")\n",
    "SimB.RunSimulation(\"b.simlog\")"
   ]
  },
  {
   "cell_type": "markdown",
   "metadata": {},
   "source": [
    "### Case C"
   ]
  },
  {
   "cell_type": "markdown",
   "metadata": {},
   "source": [
    "SimC = Simulation(\"c.txt\")\n",
    "SimC.RunSimulation(\"c.simlog\")"
   ]
  },
  {
   "cell_type": "markdown",
   "metadata": {},
   "source": [
    "### Case D"
   ]
  },
  {
   "cell_type": "markdown",
   "metadata": {},
   "source": [
    "SimD = Simulation(\"d.txt\")\n",
    "SimD.RunSimulation(\"d.simlog\")"
   ]
  },
  {
   "cell_type": "markdown",
   "metadata": {},
   "source": [
    "### Case E"
   ]
  },
  {
   "cell_type": "code",
   "execution_count": null,
   "metadata": {},
   "outputs": [],
   "source": [
    "SimE.Streets[\"ca-ejj\"].StopLight.CarQueue[0].ID"
   ]
  },
  {
   "cell_type": "code",
   "execution_count": null,
   "metadata": {},
   "outputs": [],
   "source": [
    "SimE.Streets[\"ca-ejj\"].StopLight.CarQueueNew[0].ID"
   ]
  },
  {
   "cell_type": "code",
   "execution_count": null,
   "metadata": {},
   "outputs": [],
   "source": [
    "SimE.Cars[275].Path.CurrentStreet().StopLight.CarQueueNew"
   ]
  },
  {
   "cell_type": "code",
   "execution_count": null,
   "metadata": {},
   "outputs": [],
   "source": [
    "SimE.Cars[275].Path.AtEndOfRoute()"
   ]
  },
  {
   "cell_type": "code",
   "execution_count": null,
   "metadata": {},
   "outputs": [],
   "source": [
    "SimE.Cars[278].Path.AtEndOfRoute()"
   ]
  },
  {
   "cell_type": "code",
   "execution_count": null,
   "metadata": {},
   "outputs": [],
   "source": [
    "SimE.Cars[278].Path.CurrentStreet().StopLight.Queue()"
   ]
  },
  {
   "cell_type": "code",
   "execution_count": null,
   "metadata": {},
   "outputs": [],
   "source": [
    "SimE.Cars[278].Path.CurrentStreet().StopLight.CarQueue[0].ID"
   ]
  },
  {
   "cell_type": "code",
   "execution_count": null,
   "metadata": {},
   "outputs": [],
   "source": [
    "SimE.Cars[278].Path.CurrentStreet().StopLight.CarQueueNew[0].ID"
   ]
  },
  {
   "cell_type": "code",
   "execution_count": 18,
   "metadata": {
    "scrolled": true
   },
   "outputs": [
    {
     "data": {
      "text/plain": [
       "25.591286457000024"
      ]
     },
     "execution_count": 18,
     "metadata": {},
     "output_type": "execute_result"
    }
   ],
   "source": [
    "from timeit import timeit\n",
    "SimE = Simulation(\"e.txt\")\n",
    "timeit('SimE.RunSimulation(\"e.simlog\", Log=False)', number=1, globals=globals())"
   ]
  },
  {
   "cell_type": "code",
   "execution_count": 19,
   "metadata": {},
   "outputs": [
    {
     "data": {
      "text/plain": [
       "[678543, 702310, 718478, 718354]"
      ]
     },
     "execution_count": 19,
     "metadata": {},
     "output_type": "execute_result"
    }
   ],
   "source": [
    "SimE.ScoreList"
   ]
  },
  {
   "cell_type": "code",
   "execution_count": null,
   "metadata": {},
   "outputs": [],
   "source": [
    "SimE.Intersections[1].StreetList"
   ]
  },
  {
   "cell_type": "code",
   "execution_count": null,
   "metadata": {},
   "outputs": [],
   "source": [
    "SimE.Intersections[1].StreetList[0].Name"
   ]
  },
  {
   "cell_type": "code",
   "execution_count": null,
   "metadata": {},
   "outputs": [],
   "source": [
    "SimE.Intersections[1].TimeTable.ShowSchedule()"
   ]
  },
  {
   "cell_type": "code",
   "execution_count": null,
   "metadata": {
    "scrolled": true
   },
   "outputs": [],
   "source": [
    "\n",
    "ArrivalTimes = []\n",
    "for c in SimE.Cars:\n",
    "    if c.ArrivalTime == 0:\n",
    "        ArrivalTimes.append(np.nan)\n",
    "    else:\n",
    "        ArrivalTimes.append(c.ArrivalTime)\n",
    "print(ArrivalTimes)\n"
   ]
  },
  {
   "cell_type": "code",
   "execution_count": null,
   "metadata": {},
   "outputs": [],
   "source": [
    "l = []\n",
    "Count = 0\n",
    "i = 0\n",
    "end = len(ArrivalTimes)\n",
    "while i < end:\n",
    "    try:\n",
    "        h = ArrivalTimes.index(16, i, end)\n",
    "        l.append(h)\n",
    "        i = l[Count]+1\n",
    "        Count += 1\n",
    "    except ValueError:\n",
    "        break    \n",
    "        \n",
    "print(l)"
   ]
  },
  {
   "cell_type": "code",
   "execution_count": null,
   "metadata": {},
   "outputs": [],
   "source": [
    "ArrivalTimes[334]"
   ]
  },
  {
   "cell_type": "code",
   "execution_count": null,
   "metadata": {},
   "outputs": [],
   "source": [
    "for s in SimE.Cars[334].Path.StreetList:\n",
    "    print(s.Name, s.Length)"
   ]
  },
  {
   "cell_type": "code",
   "execution_count": null,
   "metadata": {},
   "outputs": [],
   "source": [
    "SimE.Streets['ejj-eib'].StopLight"
   ]
  },
  {
   "cell_type": "code",
   "execution_count": null,
   "metadata": {},
   "outputs": [],
   "source": [
    "np.nanargmin(ArrivalTimes)"
   ]
  },
  {
   "cell_type": "code",
   "execution_count": null,
   "metadata": {},
   "outputs": [],
   "source": [
    "ArrivalTimes[np.nanargmin(ArrivalTimes)]"
   ]
  },
  {
   "cell_type": "code",
   "execution_count": null,
   "metadata": {},
   "outputs": [],
   "source": [
    "SimE.Cars[278].ArrivalTime"
   ]
  },
  {
   "cell_type": "code",
   "execution_count": null,
   "metadata": {},
   "outputs": [],
   "source": [
    "ArrivalTimes[278]"
   ]
  },
  {
   "cell_type": "code",
   "execution_count": null,
   "metadata": {},
   "outputs": [],
   "source": [
    "for s in SimE.Cars[278].Path.StreetList:\n",
    "    print(s.Name, s.Length)"
   ]
  },
  {
   "cell_type": "code",
   "execution_count": null,
   "metadata": {},
   "outputs": [],
   "source": [
    "SimE.Cars[278].TimeToDestination()"
   ]
  },
  {
   "cell_type": "code",
   "execution_count": null,
   "metadata": {},
   "outputs": [],
   "source": [
    "SimE.Score()"
   ]
  },
  {
   "cell_type": "code",
   "execution_count": null,
   "metadata": {},
   "outputs": [],
   "source": [
    "SimE.NbrCarsArrived()"
   ]
  },
  {
   "cell_type": "code",
   "execution_count": null,
   "metadata": {},
   "outputs": [],
   "source": [
    "len(SimE.Intersections[499].StreetList)"
   ]
  },
  {
   "cell_type": "code",
   "execution_count": null,
   "metadata": {},
   "outputs": [],
   "source": [
    "PrintSubmission(SimE.Intersections, \"e11.sub\")"
   ]
  },
  {
   "cell_type": "code",
   "execution_count": null,
   "metadata": {},
   "outputs": [],
   "source": [
    "print(SimE.Timer.Now())\n",
    "print(len(SimE.Intersections))\n",
    "print(len(SimE.Streets))\n",
    "print(len(SimE.Cars))"
   ]
  },
  {
   "cell_type": "code",
   "execution_count": null,
   "metadata": {},
   "outputs": [],
   "source": [
    "SimE.Intersections[121].TimeTable.ScheduleList()"
   ]
  },
  {
   "cell_type": "markdown",
   "metadata": {},
   "source": [
    "### Case F"
   ]
  },
  {
   "cell_type": "markdown",
   "metadata": {},
   "source": [
    "SimF = Simulation(\"f.txt\")\n",
    "timeit('SimF.RunSimulation(\"f.simlog\")', number=1, globals=globals())"
   ]
  },
  {
   "cell_type": "markdown",
   "metadata": {},
   "source": [
    "SimF.Score()"
   ]
  },
  {
   "cell_type": "markdown",
   "metadata": {},
   "source": [
    "PrintSubmission(SimF.Intersections, \"f.sub\")"
   ]
  },
  {
   "cell_type": "markdown",
   "metadata": {},
   "source": [
    "### Case B"
   ]
  },
  {
   "cell_type": "markdown",
   "metadata": {},
   "source": [
    "SimB = Simulation(\"b.txt\")\n",
    "timeit('SimB.RunSimulation(Log=False)', number=1, globals=globals())"
   ]
  },
  {
   "cell_type": "markdown",
   "metadata": {},
   "source": [
    "SimB.Score()"
   ]
  },
  {
   "cell_type": "markdown",
   "metadata": {},
   "source": [
    "PrintSubmission(SimB.Intersections, \"b4.sub\")"
   ]
  },
  {
   "cell_type": "markdown",
   "metadata": {},
   "source": [
    "### Case C"
   ]
  },
  {
   "cell_type": "markdown",
   "metadata": {},
   "source": [
    "SimC = Simulation(\"c.txt\")\n",
    "timeit('SimC.RunSimulation(\"c.simlog\", Log=False)', number=1, globals=globals())"
   ]
  },
  {
   "cell_type": "markdown",
   "metadata": {},
   "source": [
    "SimC.Score()"
   ]
  },
  {
   "cell_type": "markdown",
   "metadata": {},
   "source": [
    "PrintSubmission(SimC.Intersections, \"c3.sub\")"
   ]
  },
  {
   "cell_type": "markdown",
   "metadata": {},
   "source": [
    "### Case D"
   ]
  },
  {
   "cell_type": "markdown",
   "metadata": {},
   "source": [
    "SimD4 = Simulation(\"d.txt\")\n",
    "timeit('SimD4.RunSimulation(\"d4.simlog\", Log=False)', number=1, globals=globals())"
   ]
  },
  {
   "cell_type": "markdown",
   "metadata": {},
   "source": [
    "SimD4.Score()"
   ]
  },
  {
   "cell_type": "markdown",
   "metadata": {},
   "source": [
    "PrintSubmission(SimD4.Intersections, \"d4.sub\")"
   ]
  },
  {
   "cell_type": "markdown",
   "metadata": {},
   "source": [
    "SimD4.NbrCarsArrived()   "
   ]
  },
  {
   "cell_type": "code",
   "execution_count": null,
   "metadata": {},
   "outputs": [],
   "source": []
  },
  {
   "cell_type": "markdown",
   "metadata": {},
   "source": [
    "SimE11 = Simulation(\"e10cars.txt\")\n",
    "timeit('SimE11.RunSimulation(\"E10cars.simlog\", Log=True)', number=1, globals=globals())"
   ]
  },
  {
   "cell_type": "markdown",
   "metadata": {},
   "source": [
    "SimE11.Score()"
   ]
  },
  {
   "cell_type": "markdown",
   "metadata": {},
   "source": [
    "PrintSubmission(SimE11.Intersections, \"E10cars.sub\")"
   ]
  },
  {
   "cell_type": "markdown",
   "metadata": {},
   "source": [
    "SimE11.NbrCarsArrived()"
   ]
  },
  {
   "cell_type": "markdown",
   "metadata": {},
   "source": [
    "len(SimE11.Intersections[499].StreetList)"
   ]
  },
  {
   "cell_type": "markdown",
   "metadata": {},
   "source": [
    "ArrivalTimes = []\n",
    "for c in SimE11.Cars:\n",
    "    if c.ArrivalTime == 0:\n",
    "        ArrivalTimes.append(np.nan)\n",
    "    else:\n",
    "        ArrivalTimes.append(c.ArrivalTime)\n",
    "print(ArrivalTimes)\n"
   ]
  },
  {
   "cell_type": "markdown",
   "metadata": {},
   "source": [
    "len(SimE11.Cars[9].Path.StreetList)"
   ]
  },
  {
   "cell_type": "markdown",
   "metadata": {},
   "source": [
    "SimE11.Cars[7].ArrivalTime"
   ]
  },
  {
   "cell_type": "markdown",
   "metadata": {},
   "source": [
    "for s in SimE11.Cars[7].Path.StreetList:\n",
    "    print(s.Name, s.Length)"
   ]
  },
  {
   "cell_type": "markdown",
   "metadata": {},
   "source": [
    "SimE11.Reset()"
   ]
  },
  {
   "cell_type": "markdown",
   "metadata": {},
   "source": [
    "q = []\n",
    "for s in SimE11.Intersections[499].StreetList:\n",
    "    q.append(s.StopLight.QueueLength())\n",
    "print(q)"
   ]
  },
  {
   "cell_type": "markdown",
   "metadata": {},
   "source": [
    "SimE11.Intersections[368].DisplayIntersection()"
   ]
  },
  {
   "cell_type": "markdown",
   "metadata": {},
   "source": [
    "SimE10.RunSimulation(\"E11cars.simlog\", Log=True)"
   ]
  },
  {
   "cell_type": "markdown",
   "metadata": {},
   "source": [
    "SimE10.Streets['']"
   ]
  },
  {
   "cell_type": "markdown",
   "metadata": {},
   "source": [
    "SimK = Simulation(\"Kaggle/hashcode.in\")\n",
    "SimK.RunSimulation(\"K.simlog\", Log=False)"
   ]
  },
  {
   "cell_type": "markdown",
   "metadata": {},
   "source": [
    "Intersection 5216 is never used by a car"
   ]
  },
  {
   "cell_type": "code",
   "execution_count": 41,
   "metadata": {},
   "outputs": [
    {
     "name": "stdout",
     "output_type": "stream",
     "text": [
      "Intersection 5216 is never used by a car\n"
     ]
    },
    {
     "ename": "KeyboardInterrupt",
     "evalue": "",
     "output_type": "error",
     "traceback": [
      "\u001b[0;31m---------------------------------------------------------------------------\u001b[0m",
      "\u001b[0;31mKeyboardInterrupt\u001b[0m                         Traceback (most recent call last)",
      "\u001b[0;32m<ipython-input-41-fd3d47930fc5>\u001b[0m in \u001b[0;36m<module>\u001b[0;34m\u001b[0m\n\u001b[1;32m      2\u001b[0m \u001b[0;31m# SimK = Simulation(\"../input/hashcode-2021-oqr-extension/hashcode.in\")\u001b[0m\u001b[0;34m\u001b[0m\u001b[0;34m\u001b[0m\u001b[0;34m\u001b[0m\u001b[0m\n\u001b[1;32m      3\u001b[0m \u001b[0mSimK\u001b[0m \u001b[0;34m=\u001b[0m \u001b[0mSimulation\u001b[0m\u001b[0;34m(\u001b[0m\u001b[0;34m\"Kaggle/hashcode.in\"\u001b[0m\u001b[0;34m)\u001b[0m\u001b[0;34m\u001b[0m\u001b[0;34m\u001b[0m\u001b[0m\n\u001b[0;32m----> 4\u001b[0;31m \u001b[0mtimeit\u001b[0m\u001b[0;34m(\u001b[0m\u001b[0;34m'SimK.RunSimulation(\"K.simlog\", Log=False)'\u001b[0m\u001b[0;34m,\u001b[0m \u001b[0mnumber\u001b[0m\u001b[0;34m=\u001b[0m\u001b[0;36m1\u001b[0m\u001b[0;34m,\u001b[0m \u001b[0mglobals\u001b[0m\u001b[0;34m=\u001b[0m\u001b[0mglobals\u001b[0m\u001b[0;34m(\u001b[0m\u001b[0;34m)\u001b[0m\u001b[0;34m)\u001b[0m\u001b[0;34m\u001b[0m\u001b[0;34m\u001b[0m\u001b[0m\n\u001b[0m",
      "\u001b[0;32m/mnt/sda2/Users/Administrator/Documents/ICT/Miniconda3/envs/OR/lib/python3.9/timeit.py\u001b[0m in \u001b[0;36mtimeit\u001b[0;34m(stmt, setup, timer, number, globals)\u001b[0m\n\u001b[1;32m    231\u001b[0m            number=default_number, globals=None):\n\u001b[1;32m    232\u001b[0m     \u001b[0;34m\"\"\"Convenience function to create Timer object and call timeit method.\"\"\"\u001b[0m\u001b[0;34m\u001b[0m\u001b[0;34m\u001b[0m\u001b[0m\n\u001b[0;32m--> 233\u001b[0;31m     \u001b[0;32mreturn\u001b[0m \u001b[0mTimer\u001b[0m\u001b[0;34m(\u001b[0m\u001b[0mstmt\u001b[0m\u001b[0;34m,\u001b[0m \u001b[0msetup\u001b[0m\u001b[0;34m,\u001b[0m \u001b[0mtimer\u001b[0m\u001b[0;34m,\u001b[0m \u001b[0mglobals\u001b[0m\u001b[0;34m)\u001b[0m\u001b[0;34m.\u001b[0m\u001b[0mtimeit\u001b[0m\u001b[0;34m(\u001b[0m\u001b[0mnumber\u001b[0m\u001b[0;34m)\u001b[0m\u001b[0;34m\u001b[0m\u001b[0;34m\u001b[0m\u001b[0m\n\u001b[0m\u001b[1;32m    234\u001b[0m \u001b[0;34m\u001b[0m\u001b[0m\n\u001b[1;32m    235\u001b[0m def repeat(stmt=\"pass\", setup=\"pass\", timer=default_timer,\n",
      "\u001b[0;32m/mnt/sda2/Users/Administrator/Documents/ICT/Miniconda3/envs/OR/lib/python3.9/timeit.py\u001b[0m in \u001b[0;36mtimeit\u001b[0;34m(self, number)\u001b[0m\n\u001b[1;32m    175\u001b[0m         \u001b[0mgc\u001b[0m\u001b[0;34m.\u001b[0m\u001b[0mdisable\u001b[0m\u001b[0;34m(\u001b[0m\u001b[0;34m)\u001b[0m\u001b[0;34m\u001b[0m\u001b[0;34m\u001b[0m\u001b[0m\n\u001b[1;32m    176\u001b[0m         \u001b[0;32mtry\u001b[0m\u001b[0;34m:\u001b[0m\u001b[0;34m\u001b[0m\u001b[0;34m\u001b[0m\u001b[0m\n\u001b[0;32m--> 177\u001b[0;31m             \u001b[0mtiming\u001b[0m \u001b[0;34m=\u001b[0m \u001b[0mself\u001b[0m\u001b[0;34m.\u001b[0m\u001b[0minner\u001b[0m\u001b[0;34m(\u001b[0m\u001b[0mit\u001b[0m\u001b[0;34m,\u001b[0m \u001b[0mself\u001b[0m\u001b[0;34m.\u001b[0m\u001b[0mtimer\u001b[0m\u001b[0;34m)\u001b[0m\u001b[0;34m\u001b[0m\u001b[0;34m\u001b[0m\u001b[0m\n\u001b[0m\u001b[1;32m    178\u001b[0m         \u001b[0;32mfinally\u001b[0m\u001b[0;34m:\u001b[0m\u001b[0;34m\u001b[0m\u001b[0;34m\u001b[0m\u001b[0m\n\u001b[1;32m    179\u001b[0m             \u001b[0;32mif\u001b[0m \u001b[0mgcold\u001b[0m\u001b[0;34m:\u001b[0m\u001b[0;34m\u001b[0m\u001b[0;34m\u001b[0m\u001b[0m\n",
      "\u001b[0;32m<timeit-src>\u001b[0m in \u001b[0;36minner\u001b[0;34m(_it, _timer)\u001b[0m\n",
      "\u001b[0;32m<ipython-input-40-acd8d8cb69a2>\u001b[0m in \u001b[0;36mRunSimulation\u001b[0;34m(self, FileName, Log)\u001b[0m\n\u001b[1;32m    153\u001b[0m                 \u001b[0;32mfor\u001b[0m \u001b[0mcar\u001b[0m \u001b[0;32min\u001b[0m \u001b[0mself\u001b[0m\u001b[0;34m.\u001b[0m\u001b[0mCars\u001b[0m\u001b[0;34m:\u001b[0m\u001b[0;34m\u001b[0m\u001b[0;34m\u001b[0m\u001b[0m\n\u001b[1;32m    154\u001b[0m                     \u001b[0;32mif\u001b[0m \u001b[0;32mnot\u001b[0m \u001b[0mcar\u001b[0m\u001b[0;34m.\u001b[0m\u001b[0mArrived\u001b[0m\u001b[0;34m(\u001b[0m\u001b[0;34m)\u001b[0m\u001b[0;34m:\u001b[0m\u001b[0;34m\u001b[0m\u001b[0;34m\u001b[0m\u001b[0m\n\u001b[0;32m--> 155\u001b[0;31m                         \u001b[0mcar\u001b[0m\u001b[0;34m.\u001b[0m\u001b[0mNewPosition\u001b[0m\u001b[0;34m(\u001b[0m\u001b[0mself\u001b[0m\u001b[0;34m.\u001b[0m\u001b[0mTimer\u001b[0m\u001b[0;34m.\u001b[0m\u001b[0mNow\u001b[0m\u001b[0;34m(\u001b[0m\u001b[0;34m)\u001b[0m\u001b[0;34m)\u001b[0m\u001b[0;34m\u001b[0m\u001b[0;34m\u001b[0m\u001b[0m\n\u001b[0m\u001b[1;32m    156\u001b[0m                     \u001b[0;31m#if car.Arrived(): # no need to do anything with an already arrived car\u001b[0m\u001b[0;34m\u001b[0m\u001b[0;34m\u001b[0m\u001b[0;34m\u001b[0m\u001b[0m\n\u001b[1;32m    157\u001b[0m                         \u001b[0;31m#print(\"Car \", car.ID, \" has arrived\")\u001b[0m\u001b[0;34m\u001b[0m\u001b[0;34m\u001b[0m\u001b[0;34m\u001b[0m\u001b[0m\n",
      "\u001b[0;32m<ipython-input-10-1533c60aa809>\u001b[0m in \u001b[0;36mNewPosition\u001b[0;34m(self, time)\u001b[0m\n\u001b[1;32m     21\u001b[0m \u001b[0;34m\u001b[0m\u001b[0m\n\u001b[1;32m     22\u001b[0m         \u001b[0;32mif\u001b[0m \u001b[0mself\u001b[0m\u001b[0;34m.\u001b[0m\u001b[0mPath\u001b[0m\u001b[0;34m.\u001b[0m\u001b[0mAtTrafficLight\u001b[0m\u001b[0;34m(\u001b[0m\u001b[0;34m)\u001b[0m\u001b[0;34m:\u001b[0m \u001b[0;31m# did already reach the traffic light in the previous clocktick\u001b[0m\u001b[0;34m\u001b[0m\u001b[0;34m\u001b[0m\u001b[0m\n\u001b[0;32m---> 23\u001b[0;31m             \u001b[0;32mif\u001b[0m \u001b[0mself\u001b[0m\u001b[0;34m.\u001b[0m\u001b[0mPath\u001b[0m\u001b[0;34m.\u001b[0m\u001b[0mCurrentStreet\u001b[0m\u001b[0;34m(\u001b[0m\u001b[0;34m)\u001b[0m\u001b[0;34m.\u001b[0m\u001b[0mStopLight\u001b[0m\u001b[0;34m.\u001b[0m\u001b[0mHasGreen\u001b[0m\u001b[0;34m(\u001b[0m\u001b[0;34m)\u001b[0m\u001b[0;34m:\u001b[0m\u001b[0;34m\u001b[0m\u001b[0;34m\u001b[0m\u001b[0m\n\u001b[0m\u001b[1;32m     24\u001b[0m                 \u001b[0;32mif\u001b[0m \u001b[0mself\u001b[0m \u001b[0;34m==\u001b[0m \u001b[0mself\u001b[0m\u001b[0;34m.\u001b[0m\u001b[0mPath\u001b[0m\u001b[0;34m.\u001b[0m\u001b[0mCurrentStreet\u001b[0m\u001b[0;34m(\u001b[0m\u001b[0;34m)\u001b[0m\u001b[0;34m.\u001b[0m\u001b[0mStopLight\u001b[0m\u001b[0;34m.\u001b[0m\u001b[0mFirstCar\u001b[0m\u001b[0;34m(\u001b[0m\u001b[0;34m)\u001b[0m\u001b[0;34m:\u001b[0m \u001b[0;31m# is the first in the queue\u001b[0m\u001b[0;34m\u001b[0m\u001b[0;34m\u001b[0m\u001b[0m\n\u001b[1;32m     25\u001b[0m                     \u001b[0mCar\u001b[0m \u001b[0;34m=\u001b[0m \u001b[0mself\u001b[0m\u001b[0;34m.\u001b[0m\u001b[0mPath\u001b[0m\u001b[0;34m.\u001b[0m\u001b[0mCurrentStreet\u001b[0m\u001b[0;34m(\u001b[0m\u001b[0;34m)\u001b[0m\u001b[0;34m.\u001b[0m\u001b[0mStopLight\u001b[0m\u001b[0;34m.\u001b[0m\u001b[0mFifoPopCar\u001b[0m\u001b[0;34m(\u001b[0m\u001b[0;34m)\u001b[0m \u001b[0;31m# remove car from Queue\u001b[0m\u001b[0;34m\u001b[0m\u001b[0;34m\u001b[0m\u001b[0m\n",
      "\u001b[0;31mKeyboardInterrupt\u001b[0m: "
     ]
    }
   ],
   "source": [
    "from timeit import timeit\n",
    "# SimK = Simulation(\"../input/hashcode-2021-oqr-extension/hashcode.in\")\n",
    "SimK = Simulation(\"Kaggle/hashcode.in\")\n",
    "timeit('SimK.RunSimulation(\"K.simlog\", Log=False)', number=1, globals=globals())"
   ]
  },
  {
   "cell_type": "code",
   "execution_count": null,
   "metadata": {},
   "outputs": [],
   "source": [
    "SimK.ScoreList"
   ]
  },
  {
   "cell_type": "code",
   "execution_count": null,
   "metadata": {},
   "outputs": [],
   "source": [
    "PrintSubmission(SimK.Intersections, \"Kaggle.sub\")"
   ]
  },
  {
   "cell_type": "code",
   "execution_count": 42,
   "metadata": {},
   "outputs": [
    {
     "data": {
      "text/plain": [
       "'3.9.1 (default, Dec 11 2020, 14:32:07) \\n[GCC 7.3.0]'"
      ]
     },
     "execution_count": 42,
     "metadata": {},
     "output_type": "execute_result"
    }
   ],
   "source": [
    "sys.version"
   ]
  },
  {
   "cell_type": "code",
   "execution_count": null,
   "metadata": {},
   "outputs": [],
   "source": []
  }
 ],
 "metadata": {
  "accelerator": "GPU",
  "colab": {
   "collapsed_sections": [],
   "name": "final_Text_Classification_With_BERT.ipynb",
   "provenance": [],
   "toc_visible": true
  },
  "kernelspec": {
   "display_name": "Python 3",
   "language": "python",
   "name": "python3"
  },
  "language_info": {
   "codemirror_mode": {
    "name": "ipython",
    "version": 3
   },
   "file_extension": ".py",
   "mimetype": "text/x-python",
   "name": "python",
   "nbconvert_exporter": "python",
   "pygments_lexer": "ipython3",
   "version": "3.9.1"
  }
 },
 "nbformat": 4,
 "nbformat_minor": 1
}
